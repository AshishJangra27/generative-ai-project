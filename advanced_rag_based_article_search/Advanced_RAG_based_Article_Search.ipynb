{
  "nbformat": 4,
  "nbformat_minor": 0,
  "metadata": {
    "colab": {
      "provenance": [],
      "gpuType": "T4"
    },
    "kernelspec": {
      "name": "python3",
      "display_name": "Python 3"
    },
    "language_info": {
      "name": "python"
    },
    "accelerator": "GPU",
    "widgets": {
      "application/vnd.jupyter.widget-state+json": {
        "efdad48f5759419587c120e11e44e45e": {
          "model_module": "@jupyter-widgets/controls",
          "model_name": "HBoxModel",
          "model_module_version": "1.5.0",
          "state": {
            "_dom_classes": [],
            "_model_module": "@jupyter-widgets/controls",
            "_model_module_version": "1.5.0",
            "_model_name": "HBoxModel",
            "_view_count": null,
            "_view_module": "@jupyter-widgets/controls",
            "_view_module_version": "1.5.0",
            "_view_name": "HBoxView",
            "box_style": "",
            "children": [
              "IPY_MODEL_67c1fe74b17c456fb4b739449d6341bb",
              "IPY_MODEL_3e790cb05a5246b1844e178799649645",
              "IPY_MODEL_3bbd57275015488c86c53823b627ad0b"
            ],
            "layout": "IPY_MODEL_03b59290083c405a858f5196a40698ab"
          }
        },
        "67c1fe74b17c456fb4b739449d6341bb": {
          "model_module": "@jupyter-widgets/controls",
          "model_name": "HTMLModel",
          "model_module_version": "1.5.0",
          "state": {
            "_dom_classes": [],
            "_model_module": "@jupyter-widgets/controls",
            "_model_module_version": "1.5.0",
            "_model_name": "HTMLModel",
            "_view_count": null,
            "_view_module": "@jupyter-widgets/controls",
            "_view_module_version": "1.5.0",
            "_view_name": "HTMLView",
            "description": "",
            "description_tooltip": null,
            "layout": "IPY_MODEL_5c6655e38d7b4ccfa1d9b307b98e2452",
            "placeholder": "​",
            "style": "IPY_MODEL_4e2ae0378fe24afa91c5cf1d2a0c6c11",
            "value": "100%"
          }
        },
        "3e790cb05a5246b1844e178799649645": {
          "model_module": "@jupyter-widgets/controls",
          "model_name": "FloatProgressModel",
          "model_module_version": "1.5.0",
          "state": {
            "_dom_classes": [],
            "_model_module": "@jupyter-widgets/controls",
            "_model_module_version": "1.5.0",
            "_model_name": "FloatProgressModel",
            "_view_count": null,
            "_view_module": "@jupyter-widgets/controls",
            "_view_module_version": "1.5.0",
            "_view_name": "ProgressView",
            "bar_style": "success",
            "description": "",
            "description_tooltip": null,
            "layout": "IPY_MODEL_c56c85ae2b9c41ed98f04a679011a7ab",
            "max": 30,
            "min": 0,
            "orientation": "horizontal",
            "style": "IPY_MODEL_ad5a11bf0ace4dc9b3b6d73b47b274ec",
            "value": 30
          }
        },
        "3bbd57275015488c86c53823b627ad0b": {
          "model_module": "@jupyter-widgets/controls",
          "model_name": "HTMLModel",
          "model_module_version": "1.5.0",
          "state": {
            "_dom_classes": [],
            "_model_module": "@jupyter-widgets/controls",
            "_model_module_version": "1.5.0",
            "_model_name": "HTMLModel",
            "_view_count": null,
            "_view_module": "@jupyter-widgets/controls",
            "_view_module_version": "1.5.0",
            "_view_name": "HTMLView",
            "description": "",
            "description_tooltip": null,
            "layout": "IPY_MODEL_a0331d58e66e40049b17854f0e95f451",
            "placeholder": "​",
            "style": "IPY_MODEL_310365643467405ab0bb947098799cfc",
            "value": " 30/30 [00:07&lt;00:00,  4.38it/s]"
          }
        },
        "03b59290083c405a858f5196a40698ab": {
          "model_module": "@jupyter-widgets/base",
          "model_name": "LayoutModel",
          "model_module_version": "1.2.0",
          "state": {
            "_model_module": "@jupyter-widgets/base",
            "_model_module_version": "1.2.0",
            "_model_name": "LayoutModel",
            "_view_count": null,
            "_view_module": "@jupyter-widgets/base",
            "_view_module_version": "1.2.0",
            "_view_name": "LayoutView",
            "align_content": null,
            "align_items": null,
            "align_self": null,
            "border": null,
            "bottom": null,
            "display": null,
            "flex": null,
            "flex_flow": null,
            "grid_area": null,
            "grid_auto_columns": null,
            "grid_auto_flow": null,
            "grid_auto_rows": null,
            "grid_column": null,
            "grid_gap": null,
            "grid_row": null,
            "grid_template_areas": null,
            "grid_template_columns": null,
            "grid_template_rows": null,
            "height": null,
            "justify_content": null,
            "justify_items": null,
            "left": null,
            "margin": null,
            "max_height": null,
            "max_width": null,
            "min_height": null,
            "min_width": null,
            "object_fit": null,
            "object_position": null,
            "order": null,
            "overflow": null,
            "overflow_x": null,
            "overflow_y": null,
            "padding": null,
            "right": null,
            "top": null,
            "visibility": null,
            "width": null
          }
        },
        "5c6655e38d7b4ccfa1d9b307b98e2452": {
          "model_module": "@jupyter-widgets/base",
          "model_name": "LayoutModel",
          "model_module_version": "1.2.0",
          "state": {
            "_model_module": "@jupyter-widgets/base",
            "_model_module_version": "1.2.0",
            "_model_name": "LayoutModel",
            "_view_count": null,
            "_view_module": "@jupyter-widgets/base",
            "_view_module_version": "1.2.0",
            "_view_name": "LayoutView",
            "align_content": null,
            "align_items": null,
            "align_self": null,
            "border": null,
            "bottom": null,
            "display": null,
            "flex": null,
            "flex_flow": null,
            "grid_area": null,
            "grid_auto_columns": null,
            "grid_auto_flow": null,
            "grid_auto_rows": null,
            "grid_column": null,
            "grid_gap": null,
            "grid_row": null,
            "grid_template_areas": null,
            "grid_template_columns": null,
            "grid_template_rows": null,
            "height": null,
            "justify_content": null,
            "justify_items": null,
            "left": null,
            "margin": null,
            "max_height": null,
            "max_width": null,
            "min_height": null,
            "min_width": null,
            "object_fit": null,
            "object_position": null,
            "order": null,
            "overflow": null,
            "overflow_x": null,
            "overflow_y": null,
            "padding": null,
            "right": null,
            "top": null,
            "visibility": null,
            "width": null
          }
        },
        "4e2ae0378fe24afa91c5cf1d2a0c6c11": {
          "model_module": "@jupyter-widgets/controls",
          "model_name": "DescriptionStyleModel",
          "model_module_version": "1.5.0",
          "state": {
            "_model_module": "@jupyter-widgets/controls",
            "_model_module_version": "1.5.0",
            "_model_name": "DescriptionStyleModel",
            "_view_count": null,
            "_view_module": "@jupyter-widgets/base",
            "_view_module_version": "1.2.0",
            "_view_name": "StyleView",
            "description_width": ""
          }
        },
        "c56c85ae2b9c41ed98f04a679011a7ab": {
          "model_module": "@jupyter-widgets/base",
          "model_name": "LayoutModel",
          "model_module_version": "1.2.0",
          "state": {
            "_model_module": "@jupyter-widgets/base",
            "_model_module_version": "1.2.0",
            "_model_name": "LayoutModel",
            "_view_count": null,
            "_view_module": "@jupyter-widgets/base",
            "_view_module_version": "1.2.0",
            "_view_name": "LayoutView",
            "align_content": null,
            "align_items": null,
            "align_self": null,
            "border": null,
            "bottom": null,
            "display": null,
            "flex": null,
            "flex_flow": null,
            "grid_area": null,
            "grid_auto_columns": null,
            "grid_auto_flow": null,
            "grid_auto_rows": null,
            "grid_column": null,
            "grid_gap": null,
            "grid_row": null,
            "grid_template_areas": null,
            "grid_template_columns": null,
            "grid_template_rows": null,
            "height": null,
            "justify_content": null,
            "justify_items": null,
            "left": null,
            "margin": null,
            "max_height": null,
            "max_width": null,
            "min_height": null,
            "min_width": null,
            "object_fit": null,
            "object_position": null,
            "order": null,
            "overflow": null,
            "overflow_x": null,
            "overflow_y": null,
            "padding": null,
            "right": null,
            "top": null,
            "visibility": null,
            "width": null
          }
        },
        "ad5a11bf0ace4dc9b3b6d73b47b274ec": {
          "model_module": "@jupyter-widgets/controls",
          "model_name": "ProgressStyleModel",
          "model_module_version": "1.5.0",
          "state": {
            "_model_module": "@jupyter-widgets/controls",
            "_model_module_version": "1.5.0",
            "_model_name": "ProgressStyleModel",
            "_view_count": null,
            "_view_module": "@jupyter-widgets/base",
            "_view_module_version": "1.2.0",
            "_view_name": "StyleView",
            "bar_color": null,
            "description_width": ""
          }
        },
        "a0331d58e66e40049b17854f0e95f451": {
          "model_module": "@jupyter-widgets/base",
          "model_name": "LayoutModel",
          "model_module_version": "1.2.0",
          "state": {
            "_model_module": "@jupyter-widgets/base",
            "_model_module_version": "1.2.0",
            "_model_name": "LayoutModel",
            "_view_count": null,
            "_view_module": "@jupyter-widgets/base",
            "_view_module_version": "1.2.0",
            "_view_name": "LayoutView",
            "align_content": null,
            "align_items": null,
            "align_self": null,
            "border": null,
            "bottom": null,
            "display": null,
            "flex": null,
            "flex_flow": null,
            "grid_area": null,
            "grid_auto_columns": null,
            "grid_auto_flow": null,
            "grid_auto_rows": null,
            "grid_column": null,
            "grid_gap": null,
            "grid_row": null,
            "grid_template_areas": null,
            "grid_template_columns": null,
            "grid_template_rows": null,
            "height": null,
            "justify_content": null,
            "justify_items": null,
            "left": null,
            "margin": null,
            "max_height": null,
            "max_width": null,
            "min_height": null,
            "min_width": null,
            "object_fit": null,
            "object_position": null,
            "order": null,
            "overflow": null,
            "overflow_x": null,
            "overflow_y": null,
            "padding": null,
            "right": null,
            "top": null,
            "visibility": null,
            "width": null
          }
        },
        "310365643467405ab0bb947098799cfc": {
          "model_module": "@jupyter-widgets/controls",
          "model_name": "DescriptionStyleModel",
          "model_module_version": "1.5.0",
          "state": {
            "_model_module": "@jupyter-widgets/controls",
            "_model_module_version": "1.5.0",
            "_model_name": "DescriptionStyleModel",
            "_view_count": null,
            "_view_module": "@jupyter-widgets/base",
            "_view_module_version": "1.2.0",
            "_view_name": "StyleView",
            "description_width": ""
          }
        }
      }
    }
  },
  "cells": [
    {
      "cell_type": "markdown",
      "source": [
        "## AI-Powered Article Search with ChromaDB + Gemini\n",
        "\n",
        "Build a lightweight Retrieval-Augmented Generation (RAG) system using:\n",
        "\n",
        "- **Chunking** – Split long articles into smaller, searchable pieces  \n",
        "- **LlamaIndex** – For intelligent text chunking and preprocessing  \n",
        "- **ChromaDB** – Store and search vector embeddings efficiently  \n",
        "- **Gemini (Google)** – Generate answers using retrieved context\n",
        "\n",
        "---\n",
        "\n",
        "### Workflow Overview\n",
        "\n",
        "1. **Data Chunking**  \n",
        "   - Use LlamaIndex to split articles into overlapping chunks  \n",
        "\n",
        "2. **Embedding + Indexing**  \n",
        "   - Generate embeddings using SentenceTransformers  \n",
        "   - Store in a persistent Chroma vector DB  \n",
        "\n",
        "3. **Semantic Search**  \n",
        "   - Query Chroma to retrieve relevant chunks for any question  \n",
        "\n",
        "4. **Answer Generation**  \n",
        "   - Feed results into Gemini 1.5 Flash for context-aware answers  \n",
        "\n",
        "---\n",
        "\n",
        "> Fast, simple, and effective — ideal for building smart search over large text datasets.\n"
      ],
      "metadata": {
        "id": "1dtBAj3UFu-N"
      }
    },
    {
      "cell_type": "markdown",
      "source": [
        "### 1. Data Preparation"
      ],
      "metadata": {
        "id": "KmuJNInq8UMD"
      }
    },
    {
      "cell_type": "markdown",
      "source": [
        "#### 1.1) Get the data & install dependencies"
      ],
      "metadata": {
        "id": "CGjoZoRZr90M"
      }
    },
    {
      "cell_type": "code",
      "source": [
        "!git clone https://github.com/AshishJangra27/datasets/\n",
        "!pip install llama-index\n",
        "!pip install chromadb"
      ],
      "metadata": {
        "id": "CDLvqeAodOj2"
      },
      "execution_count": null,
      "outputs": []
    },
    {
      "cell_type": "markdown",
      "source": [
        "#### 1.2) Import Required Libraries"
      ],
      "metadata": {
        "id": "Z8cUMr1esFa5"
      }
    },
    {
      "cell_type": "code",
      "source": [
        "import os\n",
        "import json\n",
        "import time\n",
        "import pandas as pd\n",
        "\n",
        "from tqdm.auto import tqdm\n",
        "from tqdm.notebook import tqdm"
      ],
      "metadata": {
        "id": "1E6nhIvhdOhh"
      },
      "execution_count": 3,
      "outputs": []
    },
    {
      "cell_type": "markdown",
      "source": [
        "#### 1.3) Load and Combine the Datasets"
      ],
      "metadata": {
        "id": "x7Lgc4TLsVzF"
      }
    },
    {
      "cell_type": "markdown",
      "source": [
        "- List all CSV files from dataset folder  \n",
        "- Read and combine them into a single DataFrame  \n",
        "- Save the merged data as `data.csv`"
      ],
      "metadata": {
        "id": "U1ixAUBSu_aE"
      }
    },
    {
      "cell_type": "code",
      "source": [
        "csvs = [csv for csv in os.listdir('/content/datasets/GFG Articles/data') if '.csv' in csv]\n",
        "\n",
        "df = pd.DataFrame()\n",
        "\n",
        "for csv in tqdm(csvs):\n",
        "    df_ = pd.read_csv('/content/datasets/GFG Articles/data/' + csv )\n",
        "    df = pd.concat((df,df_))\n",
        "\n",
        "df.to_csv('data.csv', index = False)"
      ],
      "metadata": {
        "colab": {
          "base_uri": "https://localhost:8080/",
          "height": 49,
          "referenced_widgets": [
            "efdad48f5759419587c120e11e44e45e",
            "67c1fe74b17c456fb4b739449d6341bb",
            "3e790cb05a5246b1844e178799649645",
            "3bbd57275015488c86c53823b627ad0b",
            "03b59290083c405a858f5196a40698ab",
            "5c6655e38d7b4ccfa1d9b307b98e2452",
            "4e2ae0378fe24afa91c5cf1d2a0c6c11",
            "c56c85ae2b9c41ed98f04a679011a7ab",
            "ad5a11bf0ace4dc9b3b6d73b47b274ec",
            "a0331d58e66e40049b17854f0e95f451",
            "310365643467405ab0bb947098799cfc"
          ]
        },
        "id": "6Fuc8O9ZdOfL",
        "outputId": "0ab2075e-cc0e-4e42-a39a-58b1b8d1470b"
      },
      "execution_count": 4,
      "outputs": [
        {
          "output_type": "display_data",
          "data": {
            "text/plain": [
              "  0%|          | 0/30 [00:00<?, ?it/s]"
            ],
            "application/vnd.jupyter.widget-view+json": {
              "version_major": 2,
              "version_minor": 0,
              "model_id": "efdad48f5759419587c120e11e44e45e"
            }
          },
          "metadata": {}
        }
      ]
    },
    {
      "cell_type": "code",
      "source": [
        "df"
      ],
      "metadata": {
        "colab": {
          "base_uri": "https://localhost:8080/",
          "height": 597
        },
        "id": "C9lxcLh8gEie",
        "outputId": "0060c3f3-e073-448d-f357-e9b26efa8d88"
      },
      "execution_count": 42,
      "outputs": [
        {
          "output_type": "execute_result",
          "data": {
            "text/plain": [
              "            id                                              title  \\\n",
              "0     816123.0  Computerized Accounting System – Meaning, Feat...   \n",
              "1     818743.0    Journal Entry for Discount Allowed and Received   \n",
              "2     803597.0              Journal Entry for Interest on Capital   \n",
              "3     819505.0                     Journal Entry for Depreciation   \n",
              "4     812251.0  Partnership Deed and Provisions of the Indian ...   \n",
              "...        ...                                                ...   \n",
              "1695  725662.0            Spring @Service Annotation with Example   \n",
              "1696  727816.0                       Spring Framework Annotations   \n",
              "1697  721304.0                                  Java Applet Class   \n",
              "1698  727813.0                              String Arrays in Java   \n",
              "1699  689435.0  C Program For Rearranging A Linked List Such T...   \n",
              "\n",
              "           author_name         author_id  \\\n",
              "0        akademixs2477     akademixs2477   \n",
              "1          sukantkumar       sukantkumar   \n",
              "2          sukantkumar       sukantkumar   \n",
              "3          sukantkumar       sukantkumar   \n",
              "4           bhawna0217        bhawna0217   \n",
              "...                ...               ...   \n",
              "1695   AmiyaRanjanRout   AmiyaRanjanRout   \n",
              "1696   AmiyaRanjanRout   AmiyaRanjanRout   \n",
              "1697  khurpaderushi143  khurpaderushi143   \n",
              "1698      satyajit1910      satyajit1910   \n",
              "1699               NaN               NaN   \n",
              "\n",
              "                                                tags  no_of_imgs  \\\n",
              "0               Picked,Accountancy,Class 12,Commerce         0.0   \n",
              "1      Journal Entries,Accountancy,Class 11,Commerce        11.0   \n",
              "2                                 tanushreegupta2000         3.0   \n",
              "3      Journal Entries,Accountancy,Class 11,Commerce         3.0   \n",
              "4                      Accountancy,Class 12,Commerce         0.0   \n",
              "...                                              ...         ...   \n",
              "1695  simranarora5sos,surindertarika1234,kk773572498         3.0   \n",
              "1696                                Java-Spring,Java         1.0   \n",
              "1697                           ankit_kumar_,rkbhola5         3.0   \n",
              "1698                             akshaytripathi19410         0.0   \n",
              "1699                                       samim2000         0.0   \n",
              "\n",
              "                file_path                                               link  \\\n",
              "0     articles/816123.txt  https://www.geeksforgeeks.org/computerized-acc...   \n",
              "1     articles/818743.txt  https://www.geeksforgeeks.org/journal-entry-fo...   \n",
              "2     articles/803597.txt  https://www.geeksforgeeks.org/journal-entry-fo...   \n",
              "3     articles/819505.txt  https://www.geeksforgeeks.org/journal-entry-fo...   \n",
              "4     articles/812251.txt  https://www.geeksforgeeks.org/partnership-deed...   \n",
              "...                   ...                                                ...   \n",
              "1695  articles/725662.txt  https://www.geeksforgeeks.org/spring-service-a...   \n",
              "1696  articles/727816.txt  https://www.geeksforgeeks.org/spring-framework...   \n",
              "1697  articles/721304.txt   https://www.geeksforgeeks.org/java-applet-class/   \n",
              "1698  articles/727813.txt  https://www.geeksforgeeks.org/string-arrays-in...   \n",
              "1699  articles/689435.txt  https://www.geeksforgeeks.org/c-program-for-re...   \n",
              "\n",
              "                                              img_links  \\\n",
              "0                                                   NaN   \n",
              "1     https://media.geeksforgeeks.org/wp-content/upl...   \n",
              "2     https://media.geeksforgeeks.org/wp-content/upl...   \n",
              "3     https://media.geeksforgeeks.org/wp-content/upl...   \n",
              "4                                                   NaN   \n",
              "...                                                 ...   \n",
              "1695  https://media.geeksforgeeks.org/wp-content/cdn...   \n",
              "1696  https://media.geeksforgeeks.org/wp-content/upl...   \n",
              "1697  https://media.geeksforgeeks.org/wp-content/upl...   \n",
              "1698                                                NaN   \n",
              "1699                                                NaN   \n",
              "\n",
              "                                                article  \n",
              "0     A companys accounting system is the core of it...  \n",
              "1     A discount is a concession in the selling pric...  \n",
              "2     The proprietor can charge interest on the amou...  \n",
              "3     Depreciation is the decrease in the value of a...  \n",
              "4     Partners are two or more people who agree to c...  \n",
              "...                                                 ...  \n",
              "1695  Spring is one of the most popular Java EE fram...  \n",
              "1696  Spring framework is one of the most popular Ja...  \n",
              "1697  Java Applet is a special type of small Java pr...  \n",
              "1698  In programming an array is a collection of the...  \n",
              "1699  Rearrange a linked list in such a way that all...  \n",
              "\n",
              "[49328 rows x 10 columns]"
            ],
            "text/html": [
              "\n",
              "  <div id=\"df-feb37fbb-f503-4f98-83f4-8ae21854e368\" class=\"colab-df-container\">\n",
              "    <div>\n",
              "<style scoped>\n",
              "    .dataframe tbody tr th:only-of-type {\n",
              "        vertical-align: middle;\n",
              "    }\n",
              "\n",
              "    .dataframe tbody tr th {\n",
              "        vertical-align: top;\n",
              "    }\n",
              "\n",
              "    .dataframe thead th {\n",
              "        text-align: right;\n",
              "    }\n",
              "</style>\n",
              "<table border=\"1\" class=\"dataframe\">\n",
              "  <thead>\n",
              "    <tr style=\"text-align: right;\">\n",
              "      <th></th>\n",
              "      <th>id</th>\n",
              "      <th>title</th>\n",
              "      <th>author_name</th>\n",
              "      <th>author_id</th>\n",
              "      <th>tags</th>\n",
              "      <th>no_of_imgs</th>\n",
              "      <th>file_path</th>\n",
              "      <th>link</th>\n",
              "      <th>img_links</th>\n",
              "      <th>article</th>\n",
              "    </tr>\n",
              "  </thead>\n",
              "  <tbody>\n",
              "    <tr>\n",
              "      <th>0</th>\n",
              "      <td>816123.0</td>\n",
              "      <td>Computerized Accounting System – Meaning, Feat...</td>\n",
              "      <td>akademixs2477</td>\n",
              "      <td>akademixs2477</td>\n",
              "      <td>Picked,Accountancy,Class 12,Commerce</td>\n",
              "      <td>0.0</td>\n",
              "      <td>articles/816123.txt</td>\n",
              "      <td>https://www.geeksforgeeks.org/computerized-acc...</td>\n",
              "      <td>NaN</td>\n",
              "      <td>A companys accounting system is the core of it...</td>\n",
              "    </tr>\n",
              "    <tr>\n",
              "      <th>1</th>\n",
              "      <td>818743.0</td>\n",
              "      <td>Journal Entry for Discount Allowed and Received</td>\n",
              "      <td>sukantkumar</td>\n",
              "      <td>sukantkumar</td>\n",
              "      <td>Journal Entries,Accountancy,Class 11,Commerce</td>\n",
              "      <td>11.0</td>\n",
              "      <td>articles/818743.txt</td>\n",
              "      <td>https://www.geeksforgeeks.org/journal-entry-fo...</td>\n",
              "      <td>https://media.geeksforgeeks.org/wp-content/upl...</td>\n",
              "      <td>A discount is a concession in the selling pric...</td>\n",
              "    </tr>\n",
              "    <tr>\n",
              "      <th>2</th>\n",
              "      <td>803597.0</td>\n",
              "      <td>Journal Entry for Interest on Capital</td>\n",
              "      <td>sukantkumar</td>\n",
              "      <td>sukantkumar</td>\n",
              "      <td>tanushreegupta2000</td>\n",
              "      <td>3.0</td>\n",
              "      <td>articles/803597.txt</td>\n",
              "      <td>https://www.geeksforgeeks.org/journal-entry-fo...</td>\n",
              "      <td>https://media.geeksforgeeks.org/wp-content/upl...</td>\n",
              "      <td>The proprietor can charge interest on the amou...</td>\n",
              "    </tr>\n",
              "    <tr>\n",
              "      <th>3</th>\n",
              "      <td>819505.0</td>\n",
              "      <td>Journal Entry for Depreciation</td>\n",
              "      <td>sukantkumar</td>\n",
              "      <td>sukantkumar</td>\n",
              "      <td>Journal Entries,Accountancy,Class 11,Commerce</td>\n",
              "      <td>3.0</td>\n",
              "      <td>articles/819505.txt</td>\n",
              "      <td>https://www.geeksforgeeks.org/journal-entry-fo...</td>\n",
              "      <td>https://media.geeksforgeeks.org/wp-content/upl...</td>\n",
              "      <td>Depreciation is the decrease in the value of a...</td>\n",
              "    </tr>\n",
              "    <tr>\n",
              "      <th>4</th>\n",
              "      <td>812251.0</td>\n",
              "      <td>Partnership Deed and Provisions of the Indian ...</td>\n",
              "      <td>bhawna0217</td>\n",
              "      <td>bhawna0217</td>\n",
              "      <td>Accountancy,Class 12,Commerce</td>\n",
              "      <td>0.0</td>\n",
              "      <td>articles/812251.txt</td>\n",
              "      <td>https://www.geeksforgeeks.org/partnership-deed...</td>\n",
              "      <td>NaN</td>\n",
              "      <td>Partners are two or more people who agree to c...</td>\n",
              "    </tr>\n",
              "    <tr>\n",
              "      <th>...</th>\n",
              "      <td>...</td>\n",
              "      <td>...</td>\n",
              "      <td>...</td>\n",
              "      <td>...</td>\n",
              "      <td>...</td>\n",
              "      <td>...</td>\n",
              "      <td>...</td>\n",
              "      <td>...</td>\n",
              "      <td>...</td>\n",
              "      <td>...</td>\n",
              "    </tr>\n",
              "    <tr>\n",
              "      <th>1695</th>\n",
              "      <td>725662.0</td>\n",
              "      <td>Spring @Service Annotation with Example</td>\n",
              "      <td>AmiyaRanjanRout</td>\n",
              "      <td>AmiyaRanjanRout</td>\n",
              "      <td>simranarora5sos,surindertarika1234,kk773572498</td>\n",
              "      <td>3.0</td>\n",
              "      <td>articles/725662.txt</td>\n",
              "      <td>https://www.geeksforgeeks.org/spring-service-a...</td>\n",
              "      <td>https://media.geeksforgeeks.org/wp-content/cdn...</td>\n",
              "      <td>Spring is one of the most popular Java EE fram...</td>\n",
              "    </tr>\n",
              "    <tr>\n",
              "      <th>1696</th>\n",
              "      <td>727816.0</td>\n",
              "      <td>Spring Framework Annotations</td>\n",
              "      <td>AmiyaRanjanRout</td>\n",
              "      <td>AmiyaRanjanRout</td>\n",
              "      <td>Java-Spring,Java</td>\n",
              "      <td>1.0</td>\n",
              "      <td>articles/727816.txt</td>\n",
              "      <td>https://www.geeksforgeeks.org/spring-framework...</td>\n",
              "      <td>https://media.geeksforgeeks.org/wp-content/upl...</td>\n",
              "      <td>Spring framework is one of the most popular Ja...</td>\n",
              "    </tr>\n",
              "    <tr>\n",
              "      <th>1697</th>\n",
              "      <td>721304.0</td>\n",
              "      <td>Java Applet Class</td>\n",
              "      <td>khurpaderushi143</td>\n",
              "      <td>khurpaderushi143</td>\n",
              "      <td>ankit_kumar_,rkbhola5</td>\n",
              "      <td>3.0</td>\n",
              "      <td>articles/721304.txt</td>\n",
              "      <td>https://www.geeksforgeeks.org/java-applet-class/</td>\n",
              "      <td>https://media.geeksforgeeks.org/wp-content/upl...</td>\n",
              "      <td>Java Applet is a special type of small Java pr...</td>\n",
              "    </tr>\n",
              "    <tr>\n",
              "      <th>1698</th>\n",
              "      <td>727813.0</td>\n",
              "      <td>String Arrays in Java</td>\n",
              "      <td>satyajit1910</td>\n",
              "      <td>satyajit1910</td>\n",
              "      <td>akshaytripathi19410</td>\n",
              "      <td>0.0</td>\n",
              "      <td>articles/727813.txt</td>\n",
              "      <td>https://www.geeksforgeeks.org/string-arrays-in...</td>\n",
              "      <td>NaN</td>\n",
              "      <td>In programming an array is a collection of the...</td>\n",
              "    </tr>\n",
              "    <tr>\n",
              "      <th>1699</th>\n",
              "      <td>689435.0</td>\n",
              "      <td>C Program For Rearranging A Linked List Such T...</td>\n",
              "      <td>NaN</td>\n",
              "      <td>NaN</td>\n",
              "      <td>samim2000</td>\n",
              "      <td>0.0</td>\n",
              "      <td>articles/689435.txt</td>\n",
              "      <td>https://www.geeksforgeeks.org/c-program-for-re...</td>\n",
              "      <td>NaN</td>\n",
              "      <td>Rearrange a linked list in such a way that all...</td>\n",
              "    </tr>\n",
              "  </tbody>\n",
              "</table>\n",
              "<p>49328 rows × 10 columns</p>\n",
              "</div>\n",
              "    <div class=\"colab-df-buttons\">\n",
              "\n",
              "  <div class=\"colab-df-container\">\n",
              "    <button class=\"colab-df-convert\" onclick=\"convertToInteractive('df-feb37fbb-f503-4f98-83f4-8ae21854e368')\"\n",
              "            title=\"Convert this dataframe to an interactive table.\"\n",
              "            style=\"display:none;\">\n",
              "\n",
              "  <svg xmlns=\"http://www.w3.org/2000/svg\" height=\"24px\" viewBox=\"0 -960 960 960\">\n",
              "    <path d=\"M120-120v-720h720v720H120Zm60-500h600v-160H180v160Zm220 220h160v-160H400v160Zm0 220h160v-160H400v160ZM180-400h160v-160H180v160Zm440 0h160v-160H620v160ZM180-180h160v-160H180v160Zm440 0h160v-160H620v160Z\"/>\n",
              "  </svg>\n",
              "    </button>\n",
              "\n",
              "  <style>\n",
              "    .colab-df-container {\n",
              "      display:flex;\n",
              "      gap: 12px;\n",
              "    }\n",
              "\n",
              "    .colab-df-convert {\n",
              "      background-color: #E8F0FE;\n",
              "      border: none;\n",
              "      border-radius: 50%;\n",
              "      cursor: pointer;\n",
              "      display: none;\n",
              "      fill: #1967D2;\n",
              "      height: 32px;\n",
              "      padding: 0 0 0 0;\n",
              "      width: 32px;\n",
              "    }\n",
              "\n",
              "    .colab-df-convert:hover {\n",
              "      background-color: #E2EBFA;\n",
              "      box-shadow: 0px 1px 2px rgba(60, 64, 67, 0.3), 0px 1px 3px 1px rgba(60, 64, 67, 0.15);\n",
              "      fill: #174EA6;\n",
              "    }\n",
              "\n",
              "    .colab-df-buttons div {\n",
              "      margin-bottom: 4px;\n",
              "    }\n",
              "\n",
              "    [theme=dark] .colab-df-convert {\n",
              "      background-color: #3B4455;\n",
              "      fill: #D2E3FC;\n",
              "    }\n",
              "\n",
              "    [theme=dark] .colab-df-convert:hover {\n",
              "      background-color: #434B5C;\n",
              "      box-shadow: 0px 1px 3px 1px rgba(0, 0, 0, 0.15);\n",
              "      filter: drop-shadow(0px 1px 2px rgba(0, 0, 0, 0.3));\n",
              "      fill: #FFFFFF;\n",
              "    }\n",
              "  </style>\n",
              "\n",
              "    <script>\n",
              "      const buttonEl =\n",
              "        document.querySelector('#df-feb37fbb-f503-4f98-83f4-8ae21854e368 button.colab-df-convert');\n",
              "      buttonEl.style.display =\n",
              "        google.colab.kernel.accessAllowed ? 'block' : 'none';\n",
              "\n",
              "      async function convertToInteractive(key) {\n",
              "        const element = document.querySelector('#df-feb37fbb-f503-4f98-83f4-8ae21854e368');\n",
              "        const dataTable =\n",
              "          await google.colab.kernel.invokeFunction('convertToInteractive',\n",
              "                                                    [key], {});\n",
              "        if (!dataTable) return;\n",
              "\n",
              "        const docLinkHtml = 'Like what you see? Visit the ' +\n",
              "          '<a target=\"_blank\" href=https://colab.research.google.com/notebooks/data_table.ipynb>data table notebook</a>'\n",
              "          + ' to learn more about interactive tables.';\n",
              "        element.innerHTML = '';\n",
              "        dataTable['output_type'] = 'display_data';\n",
              "        await google.colab.output.renderOutput(dataTable, element);\n",
              "        const docLink = document.createElement('div');\n",
              "        docLink.innerHTML = docLinkHtml;\n",
              "        element.appendChild(docLink);\n",
              "      }\n",
              "    </script>\n",
              "  </div>\n",
              "\n",
              "\n",
              "    <div id=\"df-d059b965-d412-4ec2-b2c8-bc12d587b0a1\">\n",
              "      <button class=\"colab-df-quickchart\" onclick=\"quickchart('df-d059b965-d412-4ec2-b2c8-bc12d587b0a1')\"\n",
              "                title=\"Suggest charts\"\n",
              "                style=\"display:none;\">\n",
              "\n",
              "<svg xmlns=\"http://www.w3.org/2000/svg\" height=\"24px\"viewBox=\"0 0 24 24\"\n",
              "     width=\"24px\">\n",
              "    <g>\n",
              "        <path d=\"M19 3H5c-1.1 0-2 .9-2 2v14c0 1.1.9 2 2 2h14c1.1 0 2-.9 2-2V5c0-1.1-.9-2-2-2zM9 17H7v-7h2v7zm4 0h-2V7h2v10zm4 0h-2v-4h2v4z\"/>\n",
              "    </g>\n",
              "</svg>\n",
              "      </button>\n",
              "\n",
              "<style>\n",
              "  .colab-df-quickchart {\n",
              "      --bg-color: #E8F0FE;\n",
              "      --fill-color: #1967D2;\n",
              "      --hover-bg-color: #E2EBFA;\n",
              "      --hover-fill-color: #174EA6;\n",
              "      --disabled-fill-color: #AAA;\n",
              "      --disabled-bg-color: #DDD;\n",
              "  }\n",
              "\n",
              "  [theme=dark] .colab-df-quickchart {\n",
              "      --bg-color: #3B4455;\n",
              "      --fill-color: #D2E3FC;\n",
              "      --hover-bg-color: #434B5C;\n",
              "      --hover-fill-color: #FFFFFF;\n",
              "      --disabled-bg-color: #3B4455;\n",
              "      --disabled-fill-color: #666;\n",
              "  }\n",
              "\n",
              "  .colab-df-quickchart {\n",
              "    background-color: var(--bg-color);\n",
              "    border: none;\n",
              "    border-radius: 50%;\n",
              "    cursor: pointer;\n",
              "    display: none;\n",
              "    fill: var(--fill-color);\n",
              "    height: 32px;\n",
              "    padding: 0;\n",
              "    width: 32px;\n",
              "  }\n",
              "\n",
              "  .colab-df-quickchart:hover {\n",
              "    background-color: var(--hover-bg-color);\n",
              "    box-shadow: 0 1px 2px rgba(60, 64, 67, 0.3), 0 1px 3px 1px rgba(60, 64, 67, 0.15);\n",
              "    fill: var(--button-hover-fill-color);\n",
              "  }\n",
              "\n",
              "  .colab-df-quickchart-complete:disabled,\n",
              "  .colab-df-quickchart-complete:disabled:hover {\n",
              "    background-color: var(--disabled-bg-color);\n",
              "    fill: var(--disabled-fill-color);\n",
              "    box-shadow: none;\n",
              "  }\n",
              "\n",
              "  .colab-df-spinner {\n",
              "    border: 2px solid var(--fill-color);\n",
              "    border-color: transparent;\n",
              "    border-bottom-color: var(--fill-color);\n",
              "    animation:\n",
              "      spin 1s steps(1) infinite;\n",
              "  }\n",
              "\n",
              "  @keyframes spin {\n",
              "    0% {\n",
              "      border-color: transparent;\n",
              "      border-bottom-color: var(--fill-color);\n",
              "      border-left-color: var(--fill-color);\n",
              "    }\n",
              "    20% {\n",
              "      border-color: transparent;\n",
              "      border-left-color: var(--fill-color);\n",
              "      border-top-color: var(--fill-color);\n",
              "    }\n",
              "    30% {\n",
              "      border-color: transparent;\n",
              "      border-left-color: var(--fill-color);\n",
              "      border-top-color: var(--fill-color);\n",
              "      border-right-color: var(--fill-color);\n",
              "    }\n",
              "    40% {\n",
              "      border-color: transparent;\n",
              "      border-right-color: var(--fill-color);\n",
              "      border-top-color: var(--fill-color);\n",
              "    }\n",
              "    60% {\n",
              "      border-color: transparent;\n",
              "      border-right-color: var(--fill-color);\n",
              "    }\n",
              "    80% {\n",
              "      border-color: transparent;\n",
              "      border-right-color: var(--fill-color);\n",
              "      border-bottom-color: var(--fill-color);\n",
              "    }\n",
              "    90% {\n",
              "      border-color: transparent;\n",
              "      border-bottom-color: var(--fill-color);\n",
              "    }\n",
              "  }\n",
              "</style>\n",
              "\n",
              "      <script>\n",
              "        async function quickchart(key) {\n",
              "          const quickchartButtonEl =\n",
              "            document.querySelector('#' + key + ' button');\n",
              "          quickchartButtonEl.disabled = true;  // To prevent multiple clicks.\n",
              "          quickchartButtonEl.classList.add('colab-df-spinner');\n",
              "          try {\n",
              "            const charts = await google.colab.kernel.invokeFunction(\n",
              "                'suggestCharts', [key], {});\n",
              "          } catch (error) {\n",
              "            console.error('Error during call to suggestCharts:', error);\n",
              "          }\n",
              "          quickchartButtonEl.classList.remove('colab-df-spinner');\n",
              "          quickchartButtonEl.classList.add('colab-df-quickchart-complete');\n",
              "        }\n",
              "        (() => {\n",
              "          let quickchartButtonEl =\n",
              "            document.querySelector('#df-d059b965-d412-4ec2-b2c8-bc12d587b0a1 button');\n",
              "          quickchartButtonEl.style.display =\n",
              "            google.colab.kernel.accessAllowed ? 'block' : 'none';\n",
              "        })();\n",
              "      </script>\n",
              "    </div>\n",
              "\n",
              "  <div id=\"id_bd43e3a4-5c1c-481b-bd52-92cdd61be8e5\">\n",
              "    <style>\n",
              "      .colab-df-generate {\n",
              "        background-color: #E8F0FE;\n",
              "        border: none;\n",
              "        border-radius: 50%;\n",
              "        cursor: pointer;\n",
              "        display: none;\n",
              "        fill: #1967D2;\n",
              "        height: 32px;\n",
              "        padding: 0 0 0 0;\n",
              "        width: 32px;\n",
              "      }\n",
              "\n",
              "      .colab-df-generate:hover {\n",
              "        background-color: #E2EBFA;\n",
              "        box-shadow: 0px 1px 2px rgba(60, 64, 67, 0.3), 0px 1px 3px 1px rgba(60, 64, 67, 0.15);\n",
              "        fill: #174EA6;\n",
              "      }\n",
              "\n",
              "      [theme=dark] .colab-df-generate {\n",
              "        background-color: #3B4455;\n",
              "        fill: #D2E3FC;\n",
              "      }\n",
              "\n",
              "      [theme=dark] .colab-df-generate:hover {\n",
              "        background-color: #434B5C;\n",
              "        box-shadow: 0px 1px 3px 1px rgba(0, 0, 0, 0.15);\n",
              "        filter: drop-shadow(0px 1px 2px rgba(0, 0, 0, 0.3));\n",
              "        fill: #FFFFFF;\n",
              "      }\n",
              "    </style>\n",
              "    <button class=\"colab-df-generate\" onclick=\"generateWithVariable('df')\"\n",
              "            title=\"Generate code using this dataframe.\"\n",
              "            style=\"display:none;\">\n",
              "\n",
              "  <svg xmlns=\"http://www.w3.org/2000/svg\" height=\"24px\"viewBox=\"0 0 24 24\"\n",
              "       width=\"24px\">\n",
              "    <path d=\"M7,19H8.4L18.45,9,17,7.55,7,17.6ZM5,21V16.75L18.45,3.32a2,2,0,0,1,2.83,0l1.4,1.43a1.91,1.91,0,0,1,.58,1.4,1.91,1.91,0,0,1-.58,1.4L9.25,21ZM18.45,9,17,7.55Zm-12,3A5.31,5.31,0,0,0,4.9,8.1,5.31,5.31,0,0,0,1,6.5,5.31,5.31,0,0,0,4.9,4.9,5.31,5.31,0,0,0,6.5,1,5.31,5.31,0,0,0,8.1,4.9,5.31,5.31,0,0,0,12,6.5,5.46,5.46,0,0,0,6.5,12Z\"/>\n",
              "  </svg>\n",
              "    </button>\n",
              "    <script>\n",
              "      (() => {\n",
              "      const buttonEl =\n",
              "        document.querySelector('#id_bd43e3a4-5c1c-481b-bd52-92cdd61be8e5 button.colab-df-generate');\n",
              "      buttonEl.style.display =\n",
              "        google.colab.kernel.accessAllowed ? 'block' : 'none';\n",
              "\n",
              "      buttonEl.onclick = () => {\n",
              "        google.colab.notebook.generateWithVariable('df');\n",
              "      }\n",
              "      })();\n",
              "    </script>\n",
              "  </div>\n",
              "\n",
              "    </div>\n",
              "  </div>\n"
            ],
            "application/vnd.google.colaboratory.intrinsic+json": {
              "type": "dataframe",
              "variable_name": "df",
              "summary": "{\n  \"name\": \"df\",\n  \"rows\": 49328,\n  \"fields\": [\n    {\n      \"column\": \"id\",\n      \"properties\": {\n        \"dtype\": \"number\",\n        \"std\": 252263.9312288058,\n        \"min\": 5.0,\n        \"max\": 1048363.0,\n        \"num_unique_values\": 49298,\n        \"samples\": [\n          203389.0,\n          891229.0,\n          237704.0\n        ],\n        \"semantic_type\": \"\",\n        \"description\": \"\"\n      }\n    },\n    {\n      \"column\": \"title\",\n      \"properties\": {\n        \"dtype\": \"string\",\n        \"num_unique_values\": 48660,\n        \"samples\": [\n          \"Recursive Insertion Sort\",\n          \"How to check input file is empty or not using JavaScript/jQuery ?\",\n          \"Split first N natural numbers into two sets with minimum absolute difference of their sums\"\n        ],\n        \"semantic_type\": \"\",\n        \"description\": \"\"\n      }\n    },\n    {\n      \"column\": \"author_name\",\n      \"properties\": {\n        \"dtype\": \"category\",\n        \"num_unique_values\": 8077,\n        \"samples\": [\n          \"king_tsar\",\n          \"nishitsharma1\",\n          \"tikdi\"\n        ],\n        \"semantic_type\": \"\",\n        \"description\": \"\"\n      }\n    },\n    {\n      \"column\": \"author_id\",\n      \"properties\": {\n        \"dtype\": \"category\",\n        \"num_unique_values\": 8077,\n        \"samples\": [\n          \"king_tsar\",\n          \"nishitsharma1\",\n          \"tikdi\"\n        ],\n        \"semantic_type\": \"\",\n        \"description\": \"\"\n      }\n    },\n    {\n      \"column\": \"tags\",\n      \"properties\": {\n        \"dtype\": \"string\",\n        \"num_unique_values\": 30617,\n        \"samples\": [\n          \"Java-lang package,Java\",\n          \"mohit kumar 29,rutvik_56,simranarora5sos,simmytarika5,unknown2108,surinderdawra388,subhamgoyal2014\",\n          \"andrew1234,princiraj1992,nidhi_biet,rdtank,simmytarika5,hardikkoriintern,kirtiagarwal23121999\"\n        ],\n        \"semantic_type\": \"\",\n        \"description\": \"\"\n      }\n    },\n    {\n      \"column\": \"no_of_imgs\",\n      \"properties\": {\n        \"dtype\": \"number\",\n        \"std\": 4.269338499440029,\n        \"min\": 0.0,\n        \"max\": 194.0,\n        \"num_unique_values\": 83,\n        \"samples\": [\n          32.0,\n          0.0,\n          14.0\n        ],\n        \"semantic_type\": \"\",\n        \"description\": \"\"\n      }\n    },\n    {\n      \"column\": \"file_path\",\n      \"properties\": {\n        \"dtype\": \"string\",\n        \"num_unique_values\": 49298,\n        \"samples\": [\n          \"articles/203389.txt\",\n          \"articles/891229.txt\",\n          \"articles/237704.txt\"\n        ],\n        \"semantic_type\": \"\",\n        \"description\": \"\"\n      }\n    },\n    {\n      \"column\": \"link\",\n      \"properties\": {\n        \"dtype\": \"string\",\n        \"num_unique_values\": 49298,\n        \"samples\": [\n          \"https://www.geeksforgeeks.org/php-chdir-function/\",\n          \"https://www.geeksforgeeks.org/puzzle-two-creepers-climbing-a-tree/\",\n          \"https://www.geeksforgeeks.org/python-dictionary-popitem-method/\"\n        ],\n        \"semantic_type\": \"\",\n        \"description\": \"\"\n      }\n    },\n    {\n      \"column\": \"img_links\",\n      \"properties\": {\n        \"dtype\": \"category\",\n        \"num_unique_values\": 20656,\n        \"samples\": [\n          \"https://media.geeksforgeeks.org/wp-content/uploads/FLL.jpg\",\n          \"https://media.geeksforgeeks.org/wp-content/uploads/20210911141455/ATOM-660x307.png,https://media.geeksforgeeks.org/wp-content/uploads/20210816175122/alpha-660x311.png,https://media.geeksforgeeks.org/wp-content/uploads/20210912135000/rutherford-660x307.png\",\n          \"https://media.geeksforgeeks.org/wp-content/uploads/20220719200155/spHybridisation.jpg,https://media.geeksforgeeks.org/wp-content/uploads/20220719203030/sp2Hybridisation.jpg,https://media.geeksforgeeks.org/wp-content/uploads/20220719203126/sp3Hybridisation.jpg,https://media.geeksforgeeks.org/wp-content/uploads/20220719203218/sp3dHybridisation.jpg,https://media.geeksforgeeks.org/wp-content/uploads/20220808233523/sp3d2hybridisation.jpg,https://media.geeksforgeeks.org/wp-content/uploads/20220719203450/sp3d3Hybridisation.jpg\"\n        ],\n        \"semantic_type\": \"\",\n        \"description\": \"\"\n      }\n    },\n    {\n      \"column\": \"article\",\n      \"properties\": {\n        \"dtype\": \"string\",\n        \"num_unique_values\": 49243,\n        \"samples\": [\n          \"Paytm came to GL Bajaj campus for recruitment of SDET role There were 3 rounds held in the complete processOnline AssessmentTechnical Interview ITechnical Interview IIOnline Assessment Round OA consists of a total of 17 Ques 15 MCQ 2 coding ques Coding questions are1st question is recursion based and the question was the variant of Combination Sum I was able to do it with all test cases completely pass2nd was DFS traversal based and I was not able to do itMCQ questions were based on the Analysis of Graph basic aptitude questions and some are from the core CS subject like Operating System Computer Network based questions I was able to solve 12 out of 15 questionsThe result of the OA round depends on both ie Coding and MCQbased questions as many of my friends do both coding questions but they are not shortlisted because of not doing MCQ questions So both sections are importantResult The result came with a list of shortlisted 72 students including meTechnical Interview I The duration of the interview was about 3540 min The interviewer was pretty niceQuestions asked in an interview Started with Tell me about yourselfThen they asked me a coding question as I mentioned that I have an interest in DSAThe question was of string question in which I had to reverse the string without reversing the word after removing all the nonalphabet characters then I perform it by using stackAfter the coding question they asked me some fundamental questions about OOPs SQL and Basic C questionThey asked me about GFG Puzzle 1All the things they asked me were from what I mentioned in my resumeThen they say to ask me then I asked questions related to the Job role and TechnologiesAfter 2 days I received a mail for Technical InterviewIITechnical Interview II The duration of the interview was about 4550 minutes The interviewer was really nice They gave me their intro first and they tell me there IT journeyQuestions asked in an interview are Start with Tell me about yourselfThen they asked me to explain my latest project which was based on machine learning and computer vision We had a discussion of 1215 min about the projectThen they give me a coding ques Add an element to the head of the linked list and gave a condition to do it with Time Complexity as O1 and I code it very wellThen they asked me some SQLbased questions and queriesThey asked me some fundamental questions related to DBMS OOPs and some C based questionsThey give me a scenario and I had to relate it with the OOPs conceptAt last they asked me to tell the test cases of a problem they tell me that you have a messaging app like WhatsApp and you are only allowed to send Text Video or Audio messages on the app then tell us the cases in which the app can be crashed then I gave him test cases and he was impressed with my casesAt last they give me a chance to ask a question and i ask a question and thats how the interview went to end No HR roundResult A final list of 10 students came including meVerdict Selected\",\n          \"Artificial Intelligence is a critical technology in the future Whether it is intelligent robots or selfdriving cars or smart cities they will all use different aspects of Artificial Intelligence But to create any such AI project Planning is very important So much so that Planning is a critical part of Artificial Intelligence which deals with the actions and domains of a particular problem Planning is considered as the reasoning side of actingEverything we humans do is with a certain goal in mind and all our actions are oriented towards achieving our goal In a similar fashion planning is also done for Artificial Intelligence For example reaching a particular destination requires planning Finding the best route is not the only requirement in planning but the actions to be done at a particular time and why they are done is also very important That is why planning is considered as the reasoning side of acting In other words planning is all about deciding the actions to be performed by the Artificial Intelligence system and the functioning of the system on its own in domainindependent situationsWhat is a PlanFor any planning system we need the domain description action specification and goal description A plan is assumed to be a sequence of actions and each action has its own set of preconditions to be satisfied before performing the action and also some effects which can be positive or negativeSo we have Forward State Space Planning FSSP and Backward State Space Planning BSSP at the basic level1 Forward State Space Planning FSSPFSSP behaves in a similar fashion like forward state space search It says that given a start state S in any domain we perform certain actions required and acquire a new state S which includes some new conditions as well which is called progress and this proceeds until we reach the goal state The actions have to be applicable in this caseDisadvantage Large branching factorAdvantage Algorithm is Sound2 Backward State Space Planning BSSPBSSP behaves in a similar fashion like backward state space search In this we move from the goal state g towards subgoal g that is finding the previous action to be done to achieve that respective goal This process is called regression moving back to the previous goal or subgoal These subgoals have to be checked for consistency as well The actions have to be relevant in this caseDisadvantage Not a sound algorithm sometimes inconsistency can be foundAdvantage Small branching factor very small compared to FSSPHence for an efficient planning system we need to combine the features of FSSP and BSSP which gives rise to Goal Stack planning which will be discussed in the next article\",\n          \"Given two 2D arrays which represent intervals Each 2D array represents a list of intervals Each list of intervals is disjoint and sorted in increasing order Find the intersection or set of ranges that are common to both the lists\\u00a0Disjoint means no element is common in a list Example 1 4 and 5 6 are disjoint while 1 4 and 2 5 are not as 2 3 and 4 are common to both intervals\\u00a0\\u00a0Examples\\u00a0\\u00a0Input arr1  0 4 5 10 13 20 24 25\\u00a0arr2  1 5 8 12 15 24 25 26\\u00a0Output 1 4 5 5 8 10 15 20 24 24 25 25Explanation\\u00a01 4 lies completely within range 0 4 and 1 5 Hence 1 4 is the desired intersection Similarly 24 24 lies completely within two intervals 24 25 and 15 24Input arr1  0 2 5 10 12 22 24 25\\u00a0arr2  1 4 9 12 15 24 25 26\\u00a0Output 1 2 9 10 12 12 15 22 24 24 25 25\\u00a0Explanation\\u00a01 2 lies completely within range 0 2 and 1 4 Hence 1 2 is the desired intersection Similarly 12 12 lies completely within two intervals 12 22 and 9 12\\u00a0\\u00a0ApproachTo solve the problem mentioned above two pointer technique can be used as per the steps given below\\u00a0Maintain two pointers i and j to traverse the two interval lists arr1 and arr2 respectivelyNow if arr1i has smallest endpoint it can only intersect with arr2j Similarly if arr2j has smallest endpoint it can only intersect with arr1i If intersection occurs find the intersecting segmentl r will be the intersecting segment if l  r where l  maxarr1i0 arr2j0 and r  minarr1i1 arr2j1Increment the i and j pointers accordingly to move aheadBelow is the implementation of the approach\\u00a0\\u00a0C C implementation to find the intersection of the two intervals\\u00a0#include bitsstdchusing namespace std\\u00a0 Function to print intersecting intervalsvoid printIntervalsvectorvectorint  arr1\\u00a0\\u00a0\\u00a0\\u00a0\\u00a0\\u00a0\\u00a0\\u00a0\\u00a0\\u00a0\\u00a0\\u00a0\\u00a0\\u00a0\\u00a0\\u00a0\\u00a0\\u00a0\\u00a0\\u00a0vectorvectorint  arr2\\u00a0\\u00a0\\u00a0\\u00a0\\u00a0 i and j pointers for\\u00a0\\u00a0\\u00a0\\u00a0 arr1 and arr2 respectively\\u00a0\\u00a0\\u00a0\\u00a0int i  0 j  0\\u00a0\\u00a0\\u00a0\\u00a0\\u00a0 Size of the two lists\\u00a0\\u00a0\\u00a0\\u00a0int n  arr1size m  arr2size\\u00a0\\u00a0\\u00a0\\u00a0\\u00a0 Loop through all intervals unless\\u00a0\\u00a0\\u00a0\\u00a0 one of the interval gets exhausted\\u00a0\\u00a0\\u00a0\\u00a0while i  n  j  m \\u00a0\\u00a0\\u00a0\\u00a0\\u00a0\\u00a0\\u00a0\\u00a0 Left bound for intersecting segment\\u00a0\\u00a0\\u00a0\\u00a0\\u00a0\\u00a0\\u00a0\\u00a0int l  maxarr1i0 arr2j0\\u00a0\\u00a0\\u00a0\\u00a0\\u00a0\\u00a0\\u00a0\\u00a0\\u00a0 Right bound for intersecting segment\\u00a0\\u00a0\\u00a0\\u00a0\\u00a0\\u00a0\\u00a0\\u00a0int r  minarr1i1 arr2j1\\u00a0\\u00a0\\u00a0\\u00a0\\u00a0\\u00a0\\u00a0\\u00a0\\u00a0 If segment is valid print it\\u00a0\\u00a0\\u00a0\\u00a0\\u00a0\\u00a0\\u00a0\\u00a0if l  r\\u00a0\\u00a0\\u00a0\\u00a0\\u00a0\\u00a0\\u00a0\\u00a0\\u00a0\\u00a0\\u00a0\\u00a0cout    l   \\u00a0\\u00a0\\u00a0\\u00a0\\u00a0\\u00a0\\u00a0\\u00a0\\u00a0\\u00a0\\u00a0\\u00a0\\u00a0\\u00a0\\u00a0\\u00a0\\u00a0 r  n\\u00a0\\u00a0\\u00a0\\u00a0\\u00a0\\u00a0\\u00a0\\u00a0\\u00a0 If ith intervals right\\u00a0\\u00a0\\u00a0\\u00a0\\u00a0\\u00a0\\u00a0\\u00a0 bound is smaller\\u00a0\\u00a0\\u00a0\\u00a0\\u00a0\\u00a0\\u00a0\\u00a0 increment i else\\u00a0\\u00a0\\u00a0\\u00a0\\u00a0\\u00a0\\u00a0\\u00a0 increment j\\u00a0\\u00a0\\u00a0\\u00a0\\u00a0\\u00a0\\u00a0\\u00a0if arr1i1  arr2j1\\u00a0\\u00a0\\u00a0\\u00a0\\u00a0\\u00a0\\u00a0\\u00a0\\u00a0\\u00a0\\u00a0\\u00a0i\\u00a0\\u00a0\\u00a0\\u00a0\\u00a0\\u00a0\\u00a0\\u00a0else\\u00a0\\u00a0\\u00a0\\u00a0\\u00a0\\u00a0\\u00a0\\u00a0\\u00a0\\u00a0\\u00a0\\u00a0j\\u00a0\\u00a0\\u00a0\\u00a0\\u00a0 Driver codeint main\\u00a0\\u00a0\\u00a0\\u00a0\\u00a0vectorvectorint  arr1\\u00a0\\u00a0\\u00a0\\u00a0\\u00a0\\u00a0\\u00a0\\u00a0   0 4   5 10 \\u00a0\\u00a0\\u00a0\\u00a0\\u00a0\\u00a0\\u00a0\\u00a0\\u00a0\\u00a0\\u00a0\\u00a0 13 20   24 25  \\u00a0\\u00a0\\u00a0\\u00a0\\u00a0vectorvectorint  arr2\\u00a0\\u00a0\\u00a0\\u00a0\\u00a0\\u00a0\\u00a0\\u00a0   1 5   8 12 \\u00a0\\u00a0\\u00a0\\u00a0\\u00a0\\u00a0\\u00a0\\u00a0\\u00a0\\u00a0\\u00a0\\u00a0 15 24   25 26  \\u00a0\\u00a0\\u00a0\\u00a0\\u00a0printIntervalsarr1 arr2\\u00a0\\u00a0\\u00a0\\u00a0\\u00a0return 0Java Java implementation to find intersecting intervalsclass GFG\\u00a0 Function to print intersecting intervalsstatic void printIntervalsint arr1\\u00a0\\u00a0\\u00a0\\u00a0\\u00a0\\u00a0\\u00a0\\u00a0\\u00a0\\u00a0\\u00a0\\u00a0\\u00a0\\u00a0\\u00a0\\u00a0\\u00a0\\u00a0\\u00a0\\u00a0\\u00a0\\u00a0\\u00a0\\u00a0\\u00a0\\u00a0\\u00a0int arr2\\u00a0\\u00a0\\u00a0\\u00a0\\u00a0\\u00a0\\u00a0\\u00a0\\u00a0 i and j pointers for arr1 and\\u00a0\\u00a0\\u00a0\\u00a0 arr2 respectively\\u00a0\\u00a0\\u00a0\\u00a0int i  0 j  0\\u00a0\\u00a0\\u00a0\\u00a0\\u00a0\\u00a0\\u00a0\\u00a0\\u00a0int n  arr1length m  arr2length\\u00a0\\u00a0\\u00a0\\u00a0\\u00a0\\u00a0\\u00a0\\u00a0\\u00a0 Loop through all intervals unless\\u00a0\\u00a0\\u00a0\\u00a0\\u00a0 one of the interval gets exhausted\\u00a0\\u00a0\\u00a0\\u00a0while i  n  j  m\\u00a0\\u00a0\\u00a0\\u00a0\\u00a0\\u00a0\\u00a0\\u00a0\\u00a0\\u00a0\\u00a0\\u00a0\\u00a0\\u00a0\\u00a0\\u00a0\\u00a0\\u00a0\\u00a0\\u00a0\\u00a0 Left bound for intersecting segment\\u00a0\\u00a0\\u00a0\\u00a0\\u00a0\\u00a0\\u00a0\\u00a0int l  Mathmaxarr1i0 arr2j0\\u00a0\\u00a0\\u00a0\\u00a0\\u00a0\\u00a0\\u00a0\\u00a0\\u00a0 Right bound for intersecting segment\\u00a0\\u00a0\\u00a0\\u00a0\\u00a0\\u00a0\\u00a0\\u00a0int r  Mathminarr1i1 arr2j1\\u00a0\\u00a0\\u00a0\\u00a0\\u00a0\\u00a0\\u00a0\\u00a0\\u00a0\\u00a0\\u00a0\\u00a0\\u00a0\\u00a0\\u00a0\\u00a0\\u00a0 If segment is valid print it\\u00a0\\u00a0\\u00a0\\u00a0\\u00a0\\u00a0\\u00a0\\u00a0if l  r\\u00a0\\u00a0\\u00a0\\u00a0\\u00a0\\u00a0\\u00a0\\u00a0\\u00a0\\u00a0\\u00a0\\u00a0Systemoutprintln  l    \\u00a0\\u00a0\\u00a0\\u00a0\\u00a0\\u00a0\\u00a0\\u00a0\\u00a0\\u00a0\\u00a0\\u00a0\\u00a0\\u00a0\\u00a0\\u00a0\\u00a0\\u00a0\\u00a0\\u00a0\\u00a0\\u00a0\\u00a0\\u00a0\\u00a0\\u00a0\\u00a0\\u00a0\\u00a0\\u00a0\\u00a0\\u00a0\\u00a0r  \\u00a0\\u00a0\\u00a0\\u00a0\\u00a0\\u00a0\\u00a0\\u00a0\\u00a0 If ith intervals right bound is\\u00a0\\u00a0\\u00a0\\u00a0\\u00a0\\u00a0\\u00a0\\u00a0 smaller increment i else increment j\\u00a0\\u00a0\\u00a0\\u00a0\\u00a0\\u00a0\\u00a0\\u00a0if arr1i1  arr2j1\\u00a0\\u00a0\\u00a0\\u00a0\\u00a0\\u00a0\\u00a0\\u00a0\\u00a0\\u00a0\\u00a0\\u00a0i\\u00a0\\u00a0\\u00a0\\u00a0\\u00a0\\u00a0\\u00a0\\u00a0else\\u00a0\\u00a0\\u00a0\\u00a0\\u00a0\\u00a0\\u00a0\\u00a0\\u00a0\\u00a0\\u00a0\\u00a0j\\u00a0\\u00a0\\u00a0\\u00a0\\u00a0 Driver codepublic static void mainString args\\u00a0\\u00a0\\u00a0\\u00a0int arr1    0 4   5 10 \\u00a0\\u00a0\\u00a0\\u00a0\\u00a0\\u00a0\\u00a0\\u00a0\\u00a0\\u00a0\\u00a0\\u00a0\\u00a0\\u00a0\\u00a0\\u00a0\\u00a0\\u00a0\\u00a0\\u00a0\\u00a0 13 20   24 25  \\u00a0\\u00a0\\u00a0\\u00a0\\u00a0int arr2    1 5   8 12 \\u00a0\\u00a0\\u00a0\\u00a0\\u00a0\\u00a0\\u00a0\\u00a0\\u00a0\\u00a0\\u00a0\\u00a0\\u00a0\\u00a0\\u00a0\\u00a0\\u00a0\\u00a0\\u00a0\\u00a0\\u00a0 15 24   25 26  \\u00a0\\u00a0\\u00a0\\u00a0\\u00a0printIntervalsarr1 arr2\\u00a0 This code is contributed by sarthak_eddyPython3# Python3 implementation to find# intersecting intervals\\u00a0# Function to print intersecting# intervalsdef printIntervalsarr1 arr2\\u00a0\\u00a0\\u00a0\\u00a0\\u00a0\\u00a0\\u00a0\\u00a0\\u00a0# i and j pointers for arr1\\u00a0\\u00a0\\u00a0\\u00a0# and arr2 respectively\\u00a0\\u00a0\\u00a0\\u00a0i  j  0\\u00a0\\u00a0\\u00a0\\u00a0\\u00a0\\u00a0\\u00a0\\u00a0\\u00a0n  lenarr1\\u00a0\\u00a0\\u00a0\\u00a0m  lenarr2\\u00a0\\u00a0\\u00a0\\u00a0\\u00a0# Loop through all intervals unless one\\u00a0\\u00a0\\u00a0\\u00a0# of the interval gets exhausted\\u00a0\\u00a0\\u00a0\\u00a0while i  n and j  m\\u00a0\\u00a0\\u00a0\\u00a0\\u00a0\\u00a0\\u00a0\\u00a0\\u00a0\\u00a0\\u00a0\\u00a0\\u00a0\\u00a0\\u00a0\\u00a0\\u00a0# Left bound for intersecting segment\\u00a0\\u00a0\\u00a0\\u00a0\\u00a0\\u00a0\\u00a0\\u00a0l  maxarr1i0 arr2j0\\u00a0\\u00a0\\u00a0\\u00a0\\u00a0\\u00a0\\u00a0\\u00a0\\u00a0\\u00a0\\u00a0\\u00a0\\u00a0\\u00a0\\u00a0\\u00a0\\u00a0# Right bound for intersecting segment\\u00a0\\u00a0\\u00a0\\u00a0\\u00a0\\u00a0\\u00a0\\u00a0r  minarr1i1 arr2j1\\u00a0\\u00a0\\u00a0\\u00a0\\u00a0\\u00a0\\u00a0\\u00a0\\u00a0\\u00a0\\u00a0\\u00a0\\u00a0\\u00a0\\u00a0\\u00a0\\u00a0# If segment is valid print it\\u00a0\\u00a0\\u00a0\\u00a0\\u00a0\\u00a0\\u00a0\\u00a0if l  r\\u00a0\\u00a0\\u00a0\\u00a0\\u00a0\\u00a0\\u00a0\\u00a0\\u00a0\\u00a0\\u00a0\\u00a0print l  r \\u00a0\\u00a0\\u00a0\\u00a0\\u00a0\\u00a0\\u00a0\\u00a0\\u00a0# If ith intervals right bound is\\u00a0\\u00a0\\u00a0\\u00a0\\u00a0\\u00a0\\u00a0\\u00a0# smaller increment i else increment j\\u00a0\\u00a0\\u00a0\\u00a0\\u00a0\\u00a0\\u00a0\\u00a0if arr1i1  arr2j1\\u00a0\\u00a0\\u00a0\\u00a0\\u00a0\\u00a0\\u00a0\\u00a0\\u00a0\\u00a0\\u00a0\\u00a0i  1\\u00a0\\u00a0\\u00a0\\u00a0\\u00a0\\u00a0\\u00a0\\u00a0else\\u00a0\\u00a0\\u00a0\\u00a0\\u00a0\\u00a0\\u00a0\\u00a0\\u00a0\\u00a0\\u00a0\\u00a0j  1\\u00a0# Driver codearr1    0 4   5 10 \\u00a0\\u00a0\\u00a0\\u00a0\\u00a0\\u00a0\\u00a0\\u00a0\\u00a0 13 20   24 25  \\u00a0arr2    1 5   8 12 \\u00a0\\u00a0\\u00a0\\u00a0\\u00a0\\u00a0\\u00a0\\u00a0\\u00a0 15 24   25 26  \\u00a0printIntervalsarr1 arr2\\u00a0# This code is contributed by sarthak_eddyC# C# implementation to find intersecting intervalsusing Systemclass GFG\\u00a0\\u00a0\\u00a0\\u00a0\\u00a0 Function to print intersecting intervalsstatic void printIntervalsint arr1\\u00a0\\u00a0\\u00a0\\u00a0\\u00a0\\u00a0\\u00a0\\u00a0\\u00a0\\u00a0\\u00a0\\u00a0\\u00a0\\u00a0\\u00a0\\u00a0\\u00a0\\u00a0\\u00a0\\u00a0\\u00a0\\u00a0\\u00a0\\u00a0\\u00a0\\u00a0\\u00a0int arr2\\u00a0\\u00a0\\u00a0\\u00a0\\u00a0\\u00a0\\u00a0\\u00a0\\u00a0 i and j pointers for arr1 and\\u00a0\\u00a0\\u00a0\\u00a0 arr2 respectively\\u00a0\\u00a0\\u00a0\\u00a0int i  0 j  0\\u00a0\\u00a0\\u00a0\\u00a0\\u00a0\\u00a0\\u00a0\\u00a0\\u00a0int n  arr1GetLength0\\u00a0\\u00a0\\u00a0\\u00a0\\u00a0\\u00a0\\u00a0\\u00a0m  arr2GetLength0\\u00a0\\u00a0\\u00a0\\u00a0\\u00a0\\u00a0\\u00a0\\u00a0\\u00a0 Loop through all intervals unless\\u00a0\\u00a0\\u00a0\\u00a0 one of the interval gets exhausted\\u00a0\\u00a0\\u00a0\\u00a0while i  n  j  m\\u00a0\\u00a0\\u00a0\\u00a0\\u00a0\\u00a0\\u00a0\\u00a0\\u00a0\\u00a0\\u00a0\\u00a0\\u00a0\\u00a0\\u00a0\\u00a0\\u00a0 Left bound for intersecting segment\\u00a0\\u00a0\\u00a0\\u00a0\\u00a0\\u00a0\\u00a0\\u00a0int l  MathMaxarr1i 0 arr2j 0\\u00a0\\u00a0\\u00a0\\u00a0\\u00a0\\u00a0\\u00a0\\u00a0\\u00a0\\u00a0\\u00a0\\u00a0\\u00a0\\u00a0\\u00a0\\u00a0 Right bound for intersecting segment\\u00a0\\u00a0\\u00a0\\u00a0\\u00a0\\u00a0\\u00a0\\u00a0int r  MathMinarr1i 1 arr2j 1\\u00a0\\u00a0\\u00a0\\u00a0\\u00a0\\u00a0\\u00a0\\u00a0\\u00a0\\u00a0\\u00a0\\u00a0\\u00a0 If segment is valid print it\\u00a0\\u00a0\\u00a0\\u00a0\\u00a0\\u00a0\\u00a0\\u00a0if l  r\\u00a0\\u00a0\\u00a0\\u00a0\\u00a0\\u00a0\\u00a0\\u00a0ConsoleWriteLine  l    \\u00a0\\u00a0\\u00a0\\u00a0\\u00a0\\u00a0\\u00a0\\u00a0\\u00a0\\u00a0\\u00a0\\u00a0\\u00a0\\u00a0\\u00a0\\u00a0\\u00a0\\u00a0\\u00a0\\u00a0\\u00a0\\u00a0\\u00a0\\u00a0\\u00a0\\u00a0\\u00a0\\u00a0r  \\u00a0\\u00a0\\u00a0\\u00a0\\u00a0\\u00a0\\u00a0\\u00a0\\u00a0\\u00a0\\u00a0\\u00a0\\u00a0\\u00a0\\u00a0\\u00a0\\u00a0\\u00a0\\u00a0\\u00a0\\u00a0\\u00a0\\u00a0\\u00a0\\u00a0\\u00a0\\u00a0\\u00a0\\u00a0\\u00a0\\u00a0\\u00a0\\u00a0\\u00a0\\u00a0\\u00a0\\u00a0 If ith intervals right bound is\\u00a0\\u00a0\\u00a0\\u00a0\\u00a0\\u00a0\\u00a0\\u00a0 smaller increment i else increment j\\u00a0\\u00a0\\u00a0\\u00a0\\u00a0\\u00a0\\u00a0\\u00a0if arr1i 1  arr2j 1\\u00a0\\u00a0\\u00a0\\u00a0\\u00a0\\u00a0\\u00a0\\u00a0\\u00a0\\u00a0\\u00a0\\u00a0i\\u00a0\\u00a0\\u00a0\\u00a0\\u00a0\\u00a0\\u00a0\\u00a0else\\u00a0\\u00a0\\u00a0\\u00a0\\u00a0\\u00a0\\u00a0\\u00a0\\u00a0\\u00a0\\u00a0\\u00a0j\\u00a0\\u00a0\\u00a0\\u00a0\\u00a0 Driver codepublic static void MainString args\\u00a0\\u00a0\\u00a0\\u00a0int arr1    0 4   5 10 \\u00a0\\u00a0\\u00a0\\u00a0\\u00a0\\u00a0\\u00a0\\u00a0\\u00a0\\u00a0\\u00a0\\u00a0\\u00a0\\u00a0\\u00a0\\u00a0\\u00a0\\u00a0\\u00a0\\u00a0 13 20   24 25  \\u00a0\\u00a0\\u00a0\\u00a0\\u00a0\\u00a0\\u00a0\\u00a0\\u00a0\\u00a0\\u00a0\\u00a0\\u00a0\\u00a0\\u00a0\\u00a0\\u00a0\\u00a0\\u00a0\\u00a0\\u00a0\\u00a0\\u00a0\\u00a0\\u00a0int arr2    1 5   8 12 \\u00a0\\u00a0\\u00a0\\u00a0\\u00a0\\u00a0\\u00a0\\u00a0\\u00a0\\u00a0\\u00a0\\u00a0\\u00a0\\u00a0\\u00a0\\u00a0\\u00a0\\u00a0\\u00a0\\u00a0 15 24   25 26  \\u00a0\\u00a0\\u00a0\\u00a0\\u00a0\\u00a0\\u00a0\\u00a0\\u00a0\\u00a0\\u00a0\\u00a0\\u00a0\\u00a0\\u00a0\\u00a0\\u00a0\\u00a0\\u00a0\\u00a0\\u00a0\\u00a0\\u00a0\\u00a0\\u00a0printIntervalsarr1 arr2\\u00a0 This code is contributed by Princi SinghJavascriptscript\\u00a0 JavaScript implementation to find intersecting intervals Function to print intersecting intervalsfunction printIntervalsarr1 arr2\\u00a0\\u00a0\\u00a0\\u00a0\\u00a0\\u00a0\\u00a0\\u00a0\\u00a0 i and j pointers for arr1 and\\u00a0\\u00a0\\u00a0\\u00a0 arr2 respectively\\u00a0\\u00a0\\u00a0\\u00a0var i  0 j  0\\u00a0\\u00a0\\u00a0\\u00a0\\u00a0\\u00a0\\u00a0\\u00a0\\u00a0var n  arr1length m  arr2length\\u00a0\\u00a0\\u00a0\\u00a0\\u00a0\\u00a0\\u00a0\\u00a0\\u00a0 Loop through all intervals unless\\u00a0\\u00a0\\u00a0\\u00a0\\u00a0 one of the interval gets exhausted\\u00a0\\u00a0\\u00a0\\u00a0while i  n  j  m\\u00a0\\u00a0\\u00a0\\u00a0\\u00a0\\u00a0\\u00a0\\u00a0\\u00a0\\u00a0\\u00a0\\u00a0\\u00a0\\u00a0\\u00a0\\u00a0\\u00a0\\u00a0\\u00a0\\u00a0\\u00a0 Left bound for intersecting segment\\u00a0\\u00a0\\u00a0\\u00a0\\u00a0\\u00a0\\u00a0\\u00a0var l  Mathmaxarr1i0 arr2j0\\u00a0\\u00a0\\u00a0\\u00a0\\u00a0\\u00a0\\u00a0\\u00a0\\u00a0 Right bound for intersecting segment\\u00a0\\u00a0\\u00a0\\u00a0\\u00a0\\u00a0\\u00a0\\u00a0var r  Mathminarr1i1 arr2j1\\u00a0\\u00a0\\u00a0\\u00a0\\u00a0\\u00a0\\u00a0\\u00a0\\u00a0\\u00a0\\u00a0\\u00a0\\u00a0\\u00a0\\u00a0\\u00a0\\u00a0 If segment is valid print it\\u00a0\\u00a0\\u00a0\\u00a0\\u00a0\\u00a0\\u00a0\\u00a0if l  r\\u00a0\\u00a0\\u00a0\\u00a0\\u00a0\\u00a0\\u00a0\\u00a0\\u00a0\\u00a0\\u00a0\\u00a0documentwrite  l    \\u00a0\\u00a0\\u00a0\\u00a0\\u00a0\\u00a0\\u00a0\\u00a0\\u00a0\\u00a0\\u00a0\\u00a0\\u00a0\\u00a0\\u00a0\\u00a0\\u00a0\\u00a0\\u00a0\\u00a0\\u00a0\\u00a0\\u00a0\\u00a0\\u00a0\\u00a0\\u00a0\\u00a0\\u00a0\\u00a0\\u00a0\\u00a0\\u00a0r    br\\u00a0\\u00a0\\u00a0\\u00a0\\u00a0\\u00a0\\u00a0\\u00a0\\u00a0 If ith intervals right bound is\\u00a0\\u00a0\\u00a0\\u00a0\\u00a0\\u00a0\\u00a0\\u00a0 smaller increment i else increment j\\u00a0\\u00a0\\u00a0\\u00a0\\u00a0\\u00a0\\u00a0\\u00a0if arr1i1  arr2j1\\u00a0\\u00a0\\u00a0\\u00a0\\u00a0\\u00a0\\u00a0\\u00a0\\u00a0\\u00a0\\u00a0\\u00a0i\\u00a0\\u00a0\\u00a0\\u00a0\\u00a0\\u00a0\\u00a0\\u00a0else\\u00a0\\u00a0\\u00a0\\u00a0\\u00a0\\u00a0\\u00a0\\u00a0\\u00a0\\u00a0\\u00a0\\u00a0j\\u00a0\\u00a0\\u00a0\\u00a0\\u00a0 Driver code\\u00a0\\u00a0\\u00a0\\u00a0var arr1    0 4   5 10 \\u00a0\\u00a0\\u00a0\\u00a0\\u00a0\\u00a0\\u00a0\\u00a0\\u00a0\\u00a0\\u00a0\\u00a0\\u00a0\\u00a0\\u00a0\\u00a0\\u00a0\\u00a0\\u00a0\\u00a0\\u00a0 13 20   24 25  \\u00a0\\u00a0\\u00a0\\u00a0\\u00a0var arr2    1 5   8 12 \\u00a0\\u00a0\\u00a0\\u00a0\\u00a0\\u00a0\\u00a0\\u00a0\\u00a0\\u00a0\\u00a0\\u00a0\\u00a0\\u00a0\\u00a0\\u00a0\\u00a0\\u00a0\\u00a0\\u00a0\\u00a0 15 24   25 26  \\u00a0\\u00a0\\u00a0\\u00a0\\u00a0printIntervalsarr1 arr2\\u00a0 This code is contributed by shivanisinghss2110\\u00a0scriptOutput\\u00a01 4\\n5 5\\n8 10\\n15 20\\n24 24\\n25 25\\u00a0Time Complexity ON  M where N and M are lengths of the 2D arraysAuxiliary Space O1\"\n        ],\n        \"semantic_type\": \"\",\n        \"description\": \"\"\n      }\n    }\n  ]\n}"
            }
          },
          "metadata": {},
          "execution_count": 42
        }
      ]
    },
    {
      "cell_type": "markdown",
      "source": [
        "#### 1.4) Data Chunking & Formatting"
      ],
      "metadata": {
        "id": "enCgmaFUsnFE"
      }
    },
    {
      "cell_type": "markdown",
      "source": [
        "**Chunking Text from Articles using `SentenceSplitter`**\n",
        "\n",
        "This code takes a DataFrame `df` containing articles and splits each article into smaller chunks using `SentenceSplitter` from `llama_index`.\n",
        "\n",
        "**Steps:**\n",
        "1. Initialize `SentenceSplitter` with:\n",
        "   - `chunk_size=1000`\n",
        "   - `chunk_overlap=200`\n",
        "2. Iterate over each row of the DataFrame:\n",
        "   - Extract the article text.\n",
        "   - Split the text into chunks if it is a valid string.\n",
        "   - For each chunk, store relevant metadata (e.g., title, author info, tags).\n",
        "3. Store all chunks and their metadata in a new DataFrame `chunked_df`.\n",
        "\n",
        "This is useful for preparing text data for tasks like retrieval, indexing, or language model input.\n"
      ],
      "metadata": {
        "id": "yrqbAW_kvHbz"
      }
    },
    {
      "cell_type": "code",
      "metadata": {
        "colab": {
          "base_uri": "https://localhost:8080/"
        },
        "id": "27312320",
        "outputId": "3e0fa957-6319-4456-a6fe-1fff440fc695"
      },
      "source": [
        "from llama_index.core.node_parser import SentenceSplitter\n",
        "\n",
        "text_splitter = SentenceSplitter(chunk_size=1000, chunk_overlap=200)\n",
        "\n",
        "chunked_data = []\n",
        "for index, row in tqdm(df.iterrows(), total=df.shape[0]):\n",
        "    article = row['article']\n",
        "    if isinstance(article, str):\n",
        "        chunks = text_splitter.split_text(article)\n",
        "        for chunk in chunks:\n",
        "            chunked_data.append({\n",
        "                'original_id': row['id'],\n",
        "                'title': row['title'],\n",
        "                'chunk': chunk,\n",
        "                'author_name': row['author_name'],\n",
        "                'author_id': row['author_id'],\n",
        "                'tags': row['tags'],\n",
        "                'no_of_imgs': row['no_of_imgs'],\n",
        "                'file_path': row['file_path'],\n",
        "                'link': row['link'],\n",
        "                'img_links': row['img_links']\n",
        "            })\n",
        "\n",
        "chunked_df = pd.DataFrame(chunked_data)"
      ],
      "execution_count": 7,
      "outputs": [
        {
          "output_type": "stream",
          "name": "stderr",
          "text": [
            "100%|██████████| 49328/49328 [05:34<00:00, 147.45it/s]\n"
          ]
        }
      ]
    },
    {
      "cell_type": "markdown",
      "source": [
        "### 2. Generate Embeddings"
      ],
      "metadata": {
        "id": "UgPjUimf8vrV"
      }
    },
    {
      "cell_type": "markdown",
      "source": [
        "#### 2.1) Generate Embeddings with All_MiniLM"
      ],
      "metadata": {
        "id": "aAwjUG-kLuSL"
      }
    },
    {
      "cell_type": "markdown",
      "source": [
        "**Preparing Data for Chroma Vector Store**\n",
        "\n",
        "This code converts the chunked articles (`chunked_df`) into a format suitable for use with a vector database like **Chroma**.\n",
        "\n",
        "---\n",
        "\n",
        "**🔧 Steps:**\n",
        "\n",
        "1. Initialize an empty list `chroma_data`.\n",
        "2. Iterate over each row in `chunked_df`.\n",
        "3. For each chunk:\n",
        "   - Generate a unique `id` using the original article ID and index.\n",
        "   - Store the chunk text under the `documents` key.\n",
        "   - Add all related metadata (title, author, tags, etc.) under the `metadatas` key.\n",
        "4. Use `json.dumps()` to view the structure of one sample record.\n",
        "\n",
        "---\n",
        "\n",
        "**📦 Example Output Format:**\n",
        "\n",
        "```json\n",
        "{\n",
        "  \"ids\": \"816123.0_0\",\n",
        "  \"documents\": \"A company's accounting system is the core of its financial management...\",\n",
        "  \"metadatas\": {\n",
        "    \"original_id\": 816123.0,\n",
        "    \"title\": \"Computerized Accounting System – Meaning, Features, Advantages and Disadvantages\",\n",
        "    \"author_name\": \"akademixs2477\",\n",
        "    \"author_id\": \"akademixs2477\",\n",
        "    \"tags\": \"Picked,Accountancy,Class 12,Commerce\",\n",
        "    \"no_of_imgs\": 0.0,\n",
        "    \"file_path\": \"articles/816123.txt\",\n",
        "    \"link\": \"https://www.geeksforgeeks.org/computerized-accounting-system-meaning-features-advantages-and-disadvantages/\",\n",
        "    \"img_links\": null\n",
        "  }\n",
        "}\n",
        "```\n",
        "\n",
        "This structure is compatible with many vector database libraries like **Chroma** for efficient document search and retrieval."
      ],
      "metadata": {
        "id": "DRAxrP-MvnKk"
      }
    },
    {
      "cell_type": "code",
      "metadata": {
        "id": "14d6f696"
      },
      "source": [
        "chroma_data = []\n",
        "\n",
        "for index, row in chunked_df.iterrows():\n",
        "    chroma_data.append({\n",
        "        'ids': f\"{row['original_id']}_{index}\", # Create a unique ID for each chunk\n",
        "        'documents': row['chunk'],\n",
        "        'metadatas': {\n",
        "            'original_id': row['original_id'],\n",
        "            'title': row['title'],\n",
        "            'author_name': row['author_name'],\n",
        "            'author_id': row['author_id'],\n",
        "            'tags': row['tags'],\n",
        "            'no_of_imgs': row['no_of_imgs'],\n",
        "            'file_path': row['file_path'],\n",
        "            'link': row['link'],\n",
        "            'img_links': row['img_links']\n",
        "        }\n",
        "    })\n",
        "\n",
        "import json\n",
        "print(json.dumps(chroma_data[0], indent=2))"
      ],
      "execution_count": null,
      "outputs": []
    },
    {
      "cell_type": "markdown",
      "source": [
        "### 3. Push Embeddings on ChromaDB"
      ],
      "metadata": {
        "id": "ezasSq_etJD0"
      }
    },
    {
      "cell_type": "markdown",
      "source": [
        "#### 3.1) Setup Chroma Persistent Vector Store with Embeddings"
      ],
      "metadata": {
        "id": "4lKFkGEvH2rx"
      }
    },
    {
      "cell_type": "markdown",
      "source": [
        "**Setting Up a Chroma Persistent Vector Store with Embeddings**\n",
        "\n",
        "This code initializes a persistent Chroma database and sets up a new vector collection using GPU-enabled sentence embeddings.\n",
        "\n",
        "---\n",
        "\n",
        "**📌 Steps:**\n",
        "\n",
        "1. **Import Required Libraries:**  \n",
        "   Import ChromaDB, SentenceTransformer for embeddings, and other utilities.\n",
        "\n",
        "2. **Initialize Chroma Client:**\n",
        "   - Create a persistent Chroma client with a storage path `\"chroma_db\"`.\n",
        "\n",
        "3. **Delete Old Collection (If Exists):**\n",
        "   - Attempt to delete a previously existing collection named `\"my_collection\"` to avoid duplication.\n",
        "\n",
        "4. **Initialize Embedding Function:**\n",
        "   - Use the `all-MiniLM-L6-v2` model from `SentenceTransformer`.\n",
        "   - Set the device to `\"cuda\"` to utilize GPU for faster embedding.\n",
        "\n",
        "5. **Create New Collection:**\n",
        "   - Create or retrieve a new collection named `\"my_collection\"` using the embedding function.\n",
        "\n",
        "---\n",
        "\n",
        "**✅ Result:**\n",
        "- A clean, GPU-enabled vector collection is ready in the Chroma database for inserting documents.\n"
      ],
      "metadata": {
        "id": "ewv4ksCawTRM"
      }
    },
    {
      "cell_type": "code",
      "source": [
        "import os\n",
        "import chromadb\n",
        "from chromadb.utils.embedding_functions import SentenceTransformerEmbeddingFunction\n",
        "from chromadb.config import Settings\n",
        "from tqdm import tqdm\n",
        "\n",
        "client = chromadb.PersistentClient(path=\"chroma_db\", settings=Settings())\n",
        "\n",
        "old_collection_name = \"my_collection\"\n",
        "try:\n",
        "    client.delete_collection(name=old_collection_name)\n",
        "    print(f\"Deleted collection '{old_collection_name}'.\")\n",
        "except Exception:\n",
        "    print(f\"No existing collection named '{old_collection_name}'.\")\n",
        "\n",
        "\n",
        "ef = SentenceTransformerEmbeddingFunction(model_name=\"all-MiniLM-L6-v2\", device=\"cuda\")\n",
        "\n",
        "new_collection_name = \"my_collection\"\n",
        "collection = client.get_or_create_collection(name=new_collection_name, embedding_function=ef)\n",
        "print(f\"Created new collection '{new_collection_name}' with GPU-enabled embedding.\")"
      ],
      "metadata": {
        "colab": {
          "base_uri": "https://localhost:8080/"
        },
        "id": "QYIJ-MdaJDqA",
        "outputId": "78c9468c-f37b-4b21-dc70-38cd4120d8f6"
      },
      "execution_count": 14,
      "outputs": [
        {
          "output_type": "stream",
          "name": "stdout",
          "text": [
            "No existing collection named 'my_collection'.\n"
          ]
        }
      ]
    },
    {
      "cell_type": "markdown",
      "source": [
        "#### 3.2) Push Vectors on ChromaDB"
      ],
      "metadata": {
        "id": "L9H8dO8PAHxU"
      }
    },
    {
      "cell_type": "markdown",
      "source": [
        "**Adding Documents to Chroma Collection in Batches**\n",
        "\n",
        "This section handles uploading all the document chunks (`chroma_data`) into the Chroma vector store collection in batches for efficient processing.\n",
        "\n",
        "---\n",
        "\n",
        "**📌 Steps:**\n",
        "\n",
        "1. **Set Batch Size:**\n",
        "   - Use `batch_size = 10` to control memory usage and insertion speed.\n",
        "\n",
        "2. **Loop Through Chunks:**\n",
        "   - For every batch:\n",
        "     - Extract `ids`, `documents`, and `metadatas`.\n",
        "     - Add them to the Chroma collection using `collection.add()`.\n",
        "\n",
        "3. **Verify Upload:**\n",
        "   - Print total number of chunks added and the current count in the Chroma collection using `collection.count()`.\n",
        "\n",
        "---\n",
        "\n",
        "**📦 Example Format of a Single Item in `chroma_data`:**\n",
        "\n",
        "```json\n",
        "{\n",
        "  \"ids\": \"816123.0_0\",\n",
        "  \"documents\": \"A company's accounting system is the core of its financial management as it processes all transactions within the organization...\",\n",
        "  \"metadatas\": {\n",
        "    \"original_id\": 816123.0,\n",
        "    \"title\": \"Computerized Accounting System – Meaning, Features, Advantages and Disadvantages\",\n",
        "    \"author_name\": \"akademixs2477\",\n",
        "    \"author_id\": \"akademixs2477\",\n",
        "    \"tags\": \"Picked,Accountancy,Class 12,Commerce\",\n",
        "    \"no_of_imgs\": 0.0,\n",
        "    \"file_path\": \"articles/816123.txt\",\n",
        "    \"link\": \"https://www.geeksforgeeks.org/computerized-accounting-system-meaning-features-advantages-and-disadvantages/\",\n",
        "    \"img_links\": null\n",
        "  }\n",
        "}\n",
        "```\n",
        "\n",
        "\n",
        "**✅ Result:**\n",
        "- All document chunks are added efficiently to Chroma with progress tracking via `tqdm`."
      ],
      "metadata": {
        "id": "pXwVrS1kwWzi"
      }
    },
    {
      "cell_type": "code",
      "source": [
        "batch_size = 10\n",
        "for i in tqdm(range(0, len(chroma_data), batch_size)):\n",
        "    batch = chroma_data[i : i + batch_size]\n",
        "    collection.add(\n",
        "        ids=[item['ids'] for item in batch],\n",
        "        documents=[item['documents'] for item in batch],\n",
        "        metadatas=[item['metadatas'] for item in batch]\n",
        "    )\n",
        "\n",
        "# 6. Confirm final count\n",
        "print(f\"Added {len(chroma_data)} documents to '{new_collection_name}'.\")\n",
        "print(f\"Final document count: {collection.count()}\")"
      ],
      "metadata": {
        "colab": {
          "base_uri": "https://localhost:8080/"
        },
        "id": "uTQVLIroNDPW",
        "outputId": "f6c94543-884c-4115-b443-57f71d231b6c"
      },
      "execution_count": 16,
      "outputs": [
        {
          "output_type": "stream",
          "name": "stderr",
          "text": [
            "\r  0%|          | 0/10003 [00:00<?, ?it/s]/usr/local/lib/python3.11/dist-packages/torch/nn/modules/module.py:1750: FutureWarning: `encoder_attention_mask` is deprecated and will be removed in version 4.55.0 for `BertSdpaSelfAttention.forward`.\n",
            "  return forward_call(*args, **kwargs)\n",
            "100%|██████████| 10003/10003 [33:20<00:00,  5.00it/s]"
          ]
        },
        {
          "output_type": "stream",
          "name": "stdout",
          "text": [
            "Added 100027 documents to 'my_collection'.\n",
            "Final document count: 100027\n"
          ]
        },
        {
          "output_type": "stream",
          "name": "stderr",
          "text": [
            "\n"
          ]
        }
      ]
    },
    {
      "cell_type": "markdown",
      "source": [
        "### 4. Search for similar embedding Articles"
      ],
      "metadata": {
        "id": "SziZtPxDJGhK"
      }
    },
    {
      "cell_type": "markdown",
      "source": [
        "#### 4.1) Search for similar embedding Articles"
      ],
      "metadata": {
        "id": "t8jrtSEnta_L"
      }
    },
    {
      "cell_type": "markdown",
      "source": [
        "**Querying Chroma Collection and Displaying Top Matches**\n",
        "\n",
        "This section performs a semantic search in the Chroma vector store using an embedded query and displays the top 5 most relevant document chunks.\n",
        "\n",
        "---\n",
        "\n",
        "**📌 Steps:**\n",
        "\n",
        "1. **Run a Query:**\n",
        "   - Use `collection.query()` with a natural language query like `\"What is GAN?\"`.\n",
        "   - `Chroma` automatically embeds the query and retrieves the top 5 matching documents (`n_results=5`).\n",
        "\n",
        "2. **Display Results:**\n",
        "   - Check if results contain both `'documents'` and `'metadatas'`.\n",
        "   - Loop through each result:\n",
        "     - Print the title, author, and link from metadata.\n",
        "     - Display the first 500 characters of the matching chunk for preview.\n",
        "\n",
        "---\n",
        "\n",
        "```json\n",
        "Top 5 Articles:\n",
        "\n",
        "--- Result 1 ---\n",
        "Title: Basics of Generative Adversarial Networks (GANs)\n",
        "Author: sachingera\n",
        "Link: https://www.geeksforgeeks.org/basics-of-generative-adversarial-networks-gans/\n",
        "Chunk:\n",
        "GANs is an approach for generative modeling using deep learning methods such as CNN Convolutional Neural Network Generative modeling is an unsupervised learning approach...\n",
        "\n",
        "--- Result 2 ---\n",
        "Title: Generative Adversarial Network (GAN)\n",
        "Author: Rahul_Roy\n",
        "Link: https://www.geeksforgeeks.org/generative-adversarial-network-gan/\n",
        "Chunk:\n",
        "A Generative Adversarial Network GAN is a deep learning architecture that consists of two neural networks competing against each other in a zerosum game framework...\n",
        "\n",
        "--- Result 3 ---\n",
        "Title: Generative Adversarial Network (GAN)\n",
        "Author: Rahul_Roy\n",
        "Link: https://www.geeksforgeeks.org/generative-adversarial-network-gan/\n",
        "Chunk:\n",
        "Here the Generator and the Discriminator are simple multilayer perceptrons In vanilla GAN the algorithm is really simple it tries to optimize the mathematical equation...\n",
        "\n",
        "--- Result 4 ---\n",
        "Title: Generative Adversarial Networks (GANs) | An Introduction\n",
        "Author: RahulDas\n",
        "Link: https://www.geeksforgeeks.org/generative-adversarial-networks-gans-an-introduction/\n",
        "Chunk:\n",
        "Generative Adversarial Networks GANs was first introduced by Ian Goodfellow in 2014 GANs are a powerful class of neural networks that are used for unsupervised learning...\n",
        "\n",
        "--- Result 5 ---\n",
        "Title: Super Resolution GAN (SRGAN)\n",
        "Author: pawangfg\n",
        "Link: https://www.geeksforgeeks.org/super-resolution-gan-srgan/\n",
        "Chunk:\n",
        "SRGAN was proposed by researchers at Twitter The motive of this architecture is to recover finer textures from the image when we upscale it so that its quality...\n",
        "\n",
        "```\n",
        "\n",
        "\n",
        "This output shows the most relevant articles retrieved by the Chroma vector store in response to the query `\"What is GAN?\"`, along with titles, authors, links, and a content preview."
      ],
      "metadata": {
        "id": "Zm-hrTvbwsqw"
      }
    },
    {
      "cell_type": "code",
      "source": [
        "results = collection.query(\n",
        "    query_texts=[\"What is GAN?\"], # Chroma will embed this for you\n",
        "    n_results=5\n",
        ")\n",
        "\n",
        "\n",
        "if results and results.get('documents') and results.get('metadatas'):\n",
        "    print(\"Top 5 Articles:\")\n",
        "    for i in range(len(results['documents'][0])):\n",
        "        document = results['documents'][0][i]\n",
        "        metadata = results['metadatas'][0][i]\n",
        "\n",
        "        print(f\"\\n--- Result {i+1} ---\")\n",
        "        print(f\"Title: {metadata.get('title', 'N/A')}\")\n",
        "        print(f\"Author: {metadata.get('author_name', 'N/A')}\")\n",
        "        print(f\"Link: {metadata.get('link', 'N/A')}\")\n",
        "        print(f\"Chunk:\\n{document[:500]}...\") # Displaying the first 500 characters of the chunk\n",
        "        # You can access other metadata fields similarly, e.g., metadata.get('tags')\n",
        "else:\n",
        "    print(\"No results found or results structure is unexpected.\")"
      ],
      "metadata": {
        "id": "1ALywKZ1NFAo"
      },
      "execution_count": null,
      "outputs": []
    },
    {
      "cell_type": "markdown",
      "source": [
        "#### 4.2) Get Similar Chunks and feed them to list of json format"
      ],
      "metadata": {
        "id": "LUy3tOjzUj2Q"
      }
    },
    {
      "cell_type": "markdown",
      "source": [
        "**Retrieving Top Matching Articles from Chroma**\n",
        "\n",
        "This code queries the Chroma vector store for a specific topic and collects the top matching article chunks in a structured format.\n",
        "\n",
        "---\n",
        "\n",
        "**📌 Steps:**\n",
        "\n",
        "1. **Define Query and Result Count:**\n",
        "   - Set `query_text` (e.g., `\"What is GAN?\"`) and number of results (`n_results = 3`).\n",
        "\n",
        "2. **Query the Chroma Collection:**\n",
        "   - Use `collection.query()` to search for semantically similar chunks.\n",
        "\n",
        "3. **Extract Results:**\n",
        "   - Loop through the returned results and extract:\n",
        "     - `title` from metadata\n",
        "     - `chunk` (retrieved document content)\n",
        "\n",
        "4. **Store Results:**\n",
        "   - Append each result into a list called `retrieved_articles`.\n",
        "\n",
        "5. **Check Output:**\n",
        "   - Print a fallback message if no relevant articles were found.\n",
        "\n",
        "---\n",
        "\n",
        "**📦 Example Output Format (`retrieved_articles`):**\n",
        "\n",
        "```python\n",
        "[\n",
        "  {\n",
        "    'title': 'Basics of Generative Adversarial Networks (GANs)',\n",
        "    'chunk': 'GANs is an approach for generative modeling using deep learning methods...'\n",
        "  },\n",
        "  {\n",
        "    'title': 'Generative Adversarial Network (GAN)',\n",
        "    'chunk': 'A Generative Adversarial Network GAN is a deep learning architecture...'\n",
        "  },\n",
        "  {\n",
        "    'title': 'Super Resolution GAN (SRGAN)',\n",
        "    'chunk': 'SRGAN was proposed by researchers at Twitter...'\n",
        "  }\n",
        "]\n",
        "```"
      ],
      "metadata": {
        "id": "LqqzbiUsw_Ix"
      }
    },
    {
      "cell_type": "code",
      "metadata": {
        "id": "ea9f9f3a"
      },
      "source": [
        "query_text = \"What is GAN?\" # Replace with your query\n",
        "n_results = 3 # Number of top articles to retrieve\n",
        "\n",
        "results = collection.query(\n",
        "    query_texts=[query_text],\n",
        "    n_results=n_results\n",
        ")\n",
        "\n",
        "retrieved_articles = []\n",
        "if results and results.get('documents') and results.get('metadatas'):\n",
        "    for i in range(len(results['documents'][0])):\n",
        "        document = results['documents'][0][i]\n",
        "        metadata = results['metadatas'][0][i]\n",
        "        retrieved_articles.append({\n",
        "            'title': metadata.get('title', 'N/A'),\n",
        "            'chunk': document\n",
        "        })\n",
        "\n",
        "# Check if any articles were retrieved\n",
        "if not retrieved_articles:\n",
        "    print(\"No relevant articles found in ChromaDB.\")"
      ],
      "execution_count": 45,
      "outputs": []
    },
    {
      "cell_type": "markdown",
      "source": [
        "#### 4.3) Defining Prompt for Gemini"
      ],
      "metadata": {
        "id": "6Orqreo2-0gB"
      }
    },
    {
      "cell_type": "markdown",
      "source": [
        "**Generating a Prompt for LLM-Based Question Answering**\n",
        "\n",
        "This section creates a final prompt that can be passed to a language model (LLM) for answering a user query using retrieved document chunks as context.\n",
        "\n",
        "---\n",
        "\n",
        "**📌 Steps:**\n",
        "\n",
        "1. **Check for Retrieved Articles:**\n",
        "   - Ensure `retrieved_articles` contains at least one result.\n",
        "\n",
        "2. **Construct Context Block:**\n",
        "   - Join article titles and chunks using newline formatting:\n",
        "     ```\n",
        "     Title: You are a helpful AI assistant. Use the following articles to answer the question.If the answer is not available in the provided articles, say \"I cannot answer this question based on the provided information.\"\n",
        "     \n",
        "     Articles:\n",
        "      Title: Basics of Generative Adversarial Networks (GANs)\n",
        "      Content: GANs is an approach for generative modeling using deep learning methods such as CNN Convolutional Neural Network Generative modeling is an unsupervised learning approach that involves automatically discovering\n",
        "      \n",
        "      Title: Generative Adversarial Network (GAN)\n",
        "      Content: A Generative Adversarial Network GAN is a deep learning architecture that consists of two neural networks competing against each other in a zerosum\n",
        "      \n",
        "      Title: Generative Adversarial Network (GAN)\n",
        "      Content: Here the Generator and the Discriminator are simple multilayer perceptrons In vanilla GAN the algorithm is really simple it tries to optimize the mathematical equation using stochastic gradient descentConditional GAN CGAN CGAN can be described as a deep learning method in which some conditional parameters are put into place In CGAN an additional parameter y is added to the Generator for generating the corresponding data Labels are also put into the\n",
        "\n",
        "    Question: What is GAN?\n",
        "\n",
        "    Answer:\n",
        "     ```\n",
        "\n",
        "3. **Create the Final Prompt:**\n",
        "   - Embed the context and the `query_text` into a structured instruction:\n",
        "     - Instruct the assistant to only use the provided content.\n",
        "     - Include fallback behavior if the answer is not found.\n",
        "\n",
        "4. **Fallback Condition:**\n",
        "   - If no articles are retrieved, set `prompt = None` and print a message.\n",
        "\n"
      ],
      "metadata": {
        "id": "Ts5rD4fnDNzn"
      }
    },
    {
      "cell_type": "code",
      "metadata": {
        "colab": {
          "base_uri": "https://localhost:8080/"
        },
        "id": "cf4f7f5d",
        "outputId": "0afb8521-874a-45d7-c698-ef1e19a7a8b1"
      },
      "source": [
        "if retrieved_articles:\n",
        "    context = \"\\n\\n\".join([f\"Title: {article['title']}\\nContent: {article['chunk']}\" for article in retrieved_articles])\n",
        "\n",
        "    prompt = f\"\"\"You are a helpful AI assistant. Use the following articles to answer the question.\n",
        "    If the answer is not available in the provided articles, say \"I cannot answer this question based on the provided information.\"\n",
        "\n",
        "    Articles:\n",
        "    {context}\n",
        "\n",
        "    Question: {query_text}\n",
        "\n",
        "    Answer:\n",
        "    \"\"\"\n",
        "    print(\"Prompt created with context.\")\n",
        "else:\n",
        "    prompt = None\n",
        "    print(\"No articles retrieved, skipping prompt creation.\")"
      ],
      "execution_count": 48,
      "outputs": [
        {
          "output_type": "stream",
          "name": "stdout",
          "text": [
            "Prompt created with context.\n"
          ]
        }
      ]
    },
    {
      "cell_type": "markdown",
      "source": [
        "#### 4.4) Defining Gemini Model"
      ],
      "metadata": {
        "id": "OojgEpvG-7AQ"
      }
    },
    {
      "cell_type": "markdown",
      "source": [
        "**Gemini 1.5 Flash Setup (Google Generative AI)**\n",
        "\n",
        "This block sets up the Gemini model using the Google Generative AI SDK."
      ],
      "metadata": {
        "id": "iYmXM2Z6E21O"
      }
    },
    {
      "cell_type": "code",
      "metadata": {
        "colab": {
          "base_uri": "https://localhost:8080/"
        },
        "id": "540cdda8",
        "outputId": "ad82db84-ebf4-4f3f-a5dc-13927c2ad3a0"
      },
      "source": [
        "import google.generativeai as genai\n",
        "from google.colab import userdata\n",
        "\n",
        "try:\n",
        "    GOOGLE_API_KEY = \"\"\n",
        "    genai.configure(api_key=GOOGLE_API_KEY)\n",
        "    print(\"Google Generative AI configured.\")\n",
        "    gemini_model = genai.GenerativeModel('gemini-1.5-flash-latest') # Using flash model\n",
        "    print(\"Gemini 1.5 Flash model initialized.\")\n",
        "\n",
        "except Exception as e:\n",
        "    print(f\"Error setting up Google Generative AI: {e}\")\n",
        "    gemini_model = None\n",
        "    print(\"Could not initialize Gemini model. Please check your API key and network connection.\")"
      ],
      "execution_count": 33,
      "outputs": [
        {
          "output_type": "stream",
          "name": "stdout",
          "text": [
            "Google Generative AI configured.\n",
            "Gemini 1.5 Flash model initialized.\n"
          ]
        }
      ]
    },
    {
      "cell_type": "markdown",
      "source": [
        "#### 4.5) RAG based Answer"
      ],
      "metadata": {
        "id": "Yxp7dSmH_L4-"
      }
    },
    {
      "cell_type": "markdown",
      "source": [
        "**Generate Answer using Gemini (RAG)**\n",
        "\n",
        "This code uses the Gemini model to generate an answer based on the previously constructed prompt.\n"
      ],
      "metadata": {
        "id": "jlctf8c9FB2K"
      }
    },
    {
      "cell_type": "code",
      "metadata": {
        "colab": {
          "base_uri": "https://localhost:8080/",
          "height": 106
        },
        "id": "c10d4069",
        "outputId": "807cb423-4abc-42f2-d324-eae527807311"
      },
      "source": [
        "if prompt and gemini_model:\n",
        "    try:\n",
        "        response = gemini_model.generate_content(prompt)\n",
        "        rag_answer = response.text\n",
        "        print(\"\\n--- RAG Based Answer ---\")\n",
        "        print(rag_answer)\n",
        "    except Exception as e:\n",
        "        print(f\"Error generating content from Gemini model: {e}\")\n",
        "        rag_answer = \"Could not generate answer.\"\n",
        "else:\n",
        "    rag_answer = \"Could not generate answer due to missing prompt or model.\"\n",
        "    print(rag_answer)"
      ],
      "execution_count": 34,
      "outputs": [
        {
          "output_type": "stream",
          "name": "stdout",
          "text": [
            "\n",
            "--- RAG Based Answer ---\n",
            "A Generative Adversarial Network (GAN) is a deep learning architecture consisting of two neural networks competing against each other in a zero-sum game framework.  The goal is to generate new synthetic data that resembles a known data distribution.  It uses a Generator, which creates fake data samples, and a Discriminator, which tries to distinguish between real and fake data.  The two networks are trained iteratively, with the Generator aiming to fool the Discriminator and the Discriminator aiming to correctly identify the fake data.  This adversarial training process allows the Generator to learn the underlying distribution of the real data and generate increasingly realistic samples.\n",
            "\n"
          ]
        }
      ]
    },
    {
      "cell_type": "markdown",
      "source": [
        "#### 4.6 End-to-End RAG Workflow using Chroma + Gemini"
      ],
      "metadata": {
        "id": "H00dIxKw_RAE"
      }
    },
    {
      "cell_type": "markdown",
      "source": [
        "This process retrieves relevant article chunks from a Chroma vector store and uses the Gemini model to generate an answer based on that content.\n",
        "\n",
        "---\n",
        "\n",
        "**Steps Involved**\n",
        "\n",
        "1. **Query Chroma:**\n",
        "   - A user question is sent to Chroma to find the most relevant document chunks.\n",
        "\n",
        "2. **Retrieve Articles:**\n",
        "   - Extract matching chunks and their titles from Chroma results.\n",
        "\n",
        "3. **Build Prompt:**\n",
        "   - A prompt is created that includes:\n",
        "     - The retrieved articles as context.\n",
        "     - The original user question.\n",
        "\n",
        "4. **Generate Answer with Gemini:**\n",
        "   - The prompt is passed to the Gemini 1.5 Flash model.\n",
        "   - The model generates an answer using only the provided context.\n",
        "\n",
        "5. **Fallback Handling:**\n",
        "   - If no relevant documents are found or the model is not set up, a fallback message is shown.\n",
        "\n",
        "---\n",
        "\n",
        "**✅ Outcome:**\n",
        "- A grounded, context-aware answer is returned using the retrieved documents and the Gemini model.\n"
      ],
      "metadata": {
        "id": "yZewG-roFOfS"
      }
    },
    {
      "cell_type": "code",
      "source": [
        "query_text = \"What is Image Processing in OpenCV?\"\n",
        "n_results = 10\n",
        "\n",
        "results = collection.query( query_texts=[query_text], n_results=n_results)\n",
        "\n",
        "retrieved_articles = []\n",
        "if results and results.get('documents') and results.get('metadatas'):\n",
        "    for i in range(len(results['documents'][0])):\n",
        "        document = results['documents'][0][i]\n",
        "        metadata = results['metadatas'][0][i]\n",
        "        retrieved_articles.append({\n",
        "            'title': metadata.get('title', 'N/A'),\n",
        "            'chunk': document\n",
        "        })\n",
        "\n",
        "\n",
        "\n",
        "if retrieved_articles:\n",
        "    context = \"\\n\\n\".join([f\"Title: {article['title']}\\nContent: {article['chunk']}\" for article in retrieved_articles])\n",
        "\n",
        "    prompt = f\"\"\"You are a helpful AI assistant. Use the following articles to answer the question.\n",
        "    If the answer is not available in the provided articles, say \"I cannot answer this question based on the provided information.\"\n",
        "\n",
        "    Articles:\n",
        "    {context}\n",
        "\n",
        "    Question: {query_text}\n",
        "\n",
        "    Answer:\n",
        "    \"\"\"\n",
        "    print(\"Prompt created with context.\")\n",
        "else:\n",
        "    prompt = None\n",
        "    print(\"No articles retrieved, skipping prompt creation.\")\n",
        "\n",
        "if prompt and gemini_model:\n",
        "    try:\n",
        "        response = gemini_model.generate_content(prompt)\n",
        "        rag_answer = response.text\n",
        "        print(\"\\n--- RAG Based Answer ---\")\n",
        "        print(rag_answer)\n",
        "    except Exception as e:\n",
        "        print(f\"Error generating content from Gemini model: {e}\")\n",
        "        rag_answer = \"Could not generate answer.\"\n",
        "else:\n",
        "    rag_answer = \"Could not generate answer due to missing prompt or model.\"\n",
        "    print(rag_answer)"
      ],
      "metadata": {
        "colab": {
          "base_uri": "https://localhost:8080/",
          "height": 159
        },
        "id": "ywMIWAeUYjrI",
        "outputId": "b76fa809-c021-4c24-c541-45941d54e9ea"
      },
      "execution_count": 51,
      "outputs": [
        {
          "output_type": "stream",
          "name": "stderr",
          "text": [
            "/usr/local/lib/python3.11/dist-packages/torch/nn/modules/module.py:1750: FutureWarning: `encoder_attention_mask` is deprecated and will be removed in version 4.55.0 for `BertSdpaSelfAttention.forward`.\n",
            "  return forward_call(*args, **kwargs)\n"
          ]
        },
        {
          "output_type": "stream",
          "name": "stdout",
          "text": [
            "Prompt created with context.\n",
            "\n",
            "--- RAG Based Answer ---\n",
            "Based on the provided text, image processing in OpenCV involves modifying and analyzing digital images using computer algorithms.  OpenCV offers a wide range of capabilities and methods for this, including image resizing, rotation, translation, shearing, normalization, edge detection, blurring, and morphological image processing.  It's used in various applications such as computer vision, medical imaging, and security.  OpenCV is optimized for real-time applications and supports multiple programming languages.\n",
            "\n"
          ]
        }
      ]
    },
    {
      "cell_type": "markdown",
      "source": [
        "### 5. Saving Embeddings"
      ],
      "metadata": {
        "id": "2oo_S9ot_USb"
      }
    },
    {
      "cell_type": "markdown",
      "source": [
        "This step creates a downloadable ZIP archive of the Chroma vector database stored in a local directory.\n",
        "\n",
        "---\n",
        "\n",
        "**What it does:**\n",
        "\n",
        "1. **Locate ChromaDB Directory:**\n",
        "   - Uses `./chroma_db` as the path to the persistent Chroma database.\n",
        "\n",
        "2. **Create ZIP Archive:**\n",
        "   - Compresses the entire directory into a `.zip` file using `shutil.make_archive()`.\n",
        "\n",
        "3. **Save Output:**\n",
        "   - The archive is saved with the name `chroma_db_archive.zip` in the current working directory.\n",
        "\n",
        "4. **Error Handling:**\n",
        "   - Handles cases where the source directory is missing or any other exception occurs.\n",
        "\n",
        "---\n",
        "\n",
        "**✅ Outcome:**\n",
        "- A zipped version of your Chroma database is ready for download via the Colab file browser.\n"
      ],
      "metadata": {
        "id": "QJSB-Ah_FkRT"
      }
    },
    {
      "cell_type": "code",
      "metadata": {
        "colab": {
          "base_uri": "https://localhost:8080/"
        },
        "id": "7bb72924",
        "outputId": "6883d528-00e8-485e-ef20-1815cf1a75f8"
      },
      "source": [
        "import shutil\n",
        "import os\n",
        "\n",
        "# Define the path to your ChromaDB persistent directory\n",
        "chroma_db_path = \"./chroma_db\"\n",
        "# Define the name for the zip file\n",
        "zip_filename = \"chroma_db_archive\"\n",
        "# Define the output path for the zip file\n",
        "output_path = \"./\" + zip_filename\n",
        "\n",
        "# Create a zip archive of the chroma_db directory\n",
        "try:\n",
        "    shutil.make_archive(output_path, 'zip', chroma_db_path)\n",
        "    print(f\"Successfully created zip archive: {output_path}.zip\")\n",
        "    print(\"You can now download this zip file from the Colab file browser.\")\n",
        "except FileNotFoundError:\n",
        "    print(f\"Error: The directory '{chroma_db_path}' was not found.\")\n",
        "except Exception as e:\n",
        "    print(f\"An error occurred while creating the archive: {e}\")"
      ],
      "execution_count": 35,
      "outputs": [
        {
          "output_type": "stream",
          "name": "stdout",
          "text": [
            "Successfully created zip archive: ./chroma_db_archive.zip\n",
            "You can now download this zip file from the Colab file browser.\n"
          ]
        }
      ]
    }
  ]
}